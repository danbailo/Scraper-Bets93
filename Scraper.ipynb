{
 "cells": [
  {
   "cell_type": "code",
   "execution_count": 1,
   "metadata": {},
   "outputs": [],
   "source": [
    "from selenium import webdriver\n",
    "import re"
   ]
  },
  {
   "cell_type": "code",
   "execution_count": 2,
   "metadata": {},
   "outputs": [],
   "source": [
    "options = webdriver.ChromeOptions()\n",
    "options.add_argument('headless')\n",
    "browser = webdriver.Chrome(options=options)"
   ]
  },
  {
   "cell_type": "code",
   "execution_count": 3,
   "metadata": {},
   "outputs": [],
   "source": [
    "browser.get(\"https://bets93.net/\")"
   ]
  },
  {
   "cell_type": "code",
   "execution_count": 20,
   "metadata": {},
   "outputs": [],
   "source": [
    "tab_jogos = browser.find_element_by_class_name(\"jogos\") #tabela onde contem todos os jogos disponiveis\n",
    "#pega div jogos, dentro dessa div ta os elementos que eu qro"
   ]
  },
  {
   "cell_type": "code",
   "execution_count": 21,
   "metadata": {},
   "outputs": [
    {
     "data": {
      "text/plain": [
       "'vjogos'"
      ]
     },
     "execution_count": 21,
     "metadata": {},
     "output_type": "execute_result"
    }
   ],
   "source": [
    "tab_jogos.get_attribute(\"id\")"
   ]
  },
  {
   "cell_type": "code",
   "execution_count": 6,
   "metadata": {},
   "outputs": [],
   "source": [
    "# pattern = re.compile(r'(j_visivel_\\d*)')"
   ]
  },
  {
   "cell_type": "code",
   "execution_count": 22,
   "metadata": {},
   "outputs": [],
   "source": [
    "jogos = tab_jogos.find_elements_by_tag_name('[id^=j]')"
   ]
  },
  {
   "cell_type": "code",
   "execution_count": 25,
   "metadata": {},
   "outputs": [],
   "source": [
    "# for jogo in jogos: #ok, todos os dados da primeira tabela, agr vou testar o modal no [0]\n",
    "#     print(jogo.text)"
   ]
  },
  {
   "cell_type": "code",
   "execution_count": 27,
   "metadata": {},
   "outputs": [
    {
     "data": {
      "text/plain": [
       "'j_visivel_82938794'"
      ]
     },
     "execution_count": 27,
     "metadata": {},
     "output_type": "execute_result"
    }
   ],
   "source": [
    "jogos[0].get_attribute(\"id\") #jogo_82938794_outros"
   ]
  },
  {
   "cell_type": "code",
   "execution_count": 30,
   "metadata": {},
   "outputs": [],
   "source": [
    "id_jogo = jogos[0].get_attribute(\"id\").split('_')[-1]"
   ]
  },
  {
   "cell_type": "code",
   "execution_count": 31,
   "metadata": {},
   "outputs": [],
   "source": [
    "id_botao = \"jogo_\"+id_jogo+\"_outros\""
   ]
  },
  {
   "cell_type": "code",
   "execution_count": 32,
   "metadata": {},
   "outputs": [
    {
     "data": {
      "text/plain": [
       "'jogo_82938794_outros'"
      ]
     },
     "execution_count": 32,
     "metadata": {},
     "output_type": "execute_result"
    }
   ],
   "source": [
    "id_botao"
   ]
  },
  {
   "cell_type": "code",
   "execution_count": 35,
   "metadata": {},
   "outputs": [
    {
     "data": {
      "text/plain": [
       "'+206'"
      ]
     },
     "execution_count": 35,
     "metadata": {},
     "output_type": "execute_result"
    }
   ],
   "source": [
    "jogos[0].find_element_by_id(id_botao).text #quer dizer que retornou o que ta escrito no botao! working"
   ]
  },
  {
   "cell_type": "code",
   "execution_count": null,
   "metadata": {},
   "outputs": [],
   "source": [
    "jogos[0].find_element_by_id(id_botao).click() #cliquei no botao, agr eu tenho q manipular com o browser"
   ]
  },
  {
   "cell_type": "code",
   "execution_count": 38,
   "metadata": {},
   "outputs": [],
   "source": [
    "modal = browser.find_element_by_id(\"modal\")"
   ]
  },
  {
   "cell_type": "code",
   "execution_count": 39,
   "metadata": {},
   "outputs": [],
   "source": [
    "camps = modal.find_elements_by_class_name(\"camp\")"
   ]
  },
  {
   "cell_type": "code",
   "execution_count": 40,
   "metadata": {},
   "outputs": [
    {
     "name": "stdout",
     "output_type": "stream",
     "text": [
      "Vencedor do encontro\n",
      "Dupla Possibilidade\n",
      "Ambas Equipes Marcam\n",
      "Ambas Equipes Marcam + Resultado\n",
      "Total de Gols\n",
      "Vencedor Intervalo/Final *(consulte tipos de apostas)\n",
      "Resultado Exato\n",
      "Vencedor no 1 Tempo\n",
      "Total de Gols no 1 Tempo\n",
      "Resultado Exato no 1 Tempo\n",
      "Dupla Possibilidade no 1 tempo\n",
      "Resultado e Total de Gols\n",
      "Total Gols Pares ou Impares\n",
      "Casa Total Gols Pares ou Impares\n",
      "Fora Total Gols Pares ou Impares\n",
      "Ambos marcam 1tp/2tp\n",
      "Total de Gols no 2 Tempo\n",
      "Total Escanteios\n",
      "Empate nao tem aposta\n",
      "Vencedor 2TP\n"
     ]
    }
   ],
   "source": [
    "for camp in camps:\n",
    "    print(camp.text)"
   ]
  },
  {
   "cell_type": "code",
   "execution_count": 41,
   "metadata": {},
   "outputs": [],
   "source": [
    "#se a div tem align=center, é pq é o nome da partida e a data"
   ]
  },
  {
   "cell_type": "code",
   "execution_count": 105,
   "metadata": {},
   "outputs": [],
   "source": [
    "#AQUI EU OLHO PRA TODOS OS CONTAINERS DO BOTAO Q EU CLIQUEI\n",
    "divs_data = modal.find_elements_by_class_name(\"container.container-fluid\")"
   ]
  },
  {
   "cell_type": "code",
   "execution_count": 106,
   "metadata": {},
   "outputs": [
    {
     "data": {
      "text/plain": [
       "'Vencedor do encontro\\nCasa\\n1.87\\nEmpate\\n2.94\\nFora\\n4.65'"
      ]
     },
     "execution_count": 106,
     "metadata": {},
     "output_type": "execute_result"
    }
   ],
   "source": [
    "divs_data[0].text"
   ]
  },
  {
   "cell_type": "code",
   "execution_count": 69,
   "metadata": {},
   "outputs": [
    {
     "data": {
      "text/plain": [
       "'Vencedor do encontro'"
      ]
     },
     "execution_count": 69,
     "metadata": {},
     "output_type": "execute_result"
    }
   ],
   "source": [
    "divs_data[0].find_element_by_class_name(\"camp\").text #pega o camp"
   ]
  },
  {
   "cell_type": "code",
   "execution_count": 79,
   "metadata": {},
   "outputs": [
    {
     "data": {
      "text/plain": [
       "['Vencedor do encontro', 'Casa', '1.87', 'Empate', '2.94', 'Fora', '4.65']"
      ]
     },
     "execution_count": 79,
     "metadata": {},
     "output_type": "execute_result"
    }
   ],
   "source": [
    "divs_data[0].text.split('\\n')"
   ]
  },
  {
   "cell_type": "code",
   "execution_count": 74,
   "metadata": {},
   "outputs": [
    {
     "data": {
      "text/plain": [
       "'Casa\\n1.87'"
      ]
     },
     "execution_count": 74,
     "metadata": {},
     "output_type": "execute_result"
    }
   ],
   "source": [
    "#o foda q assim teria q ficar for aninhado\n",
    "divs_data[0].find_elements_by_class_name(\"col-12.col-md-6\")[0].text #classe onde ta a opcao e valor"
   ]
  },
  {
   "cell_type": "code",
   "execution_count": 95,
   "metadata": {},
   "outputs": [],
   "source": [
    "camps = []\n",
    "ops = []\n",
    "values = []\n",
    "for i in range(len(divs_data)):\n",
    "    data_split = divs_data[i].text.split('\\n')\n",
    "    len_data_split = len(data_split)\n",
    "    for j in range(len(data_split)):\n",
    "        if j == 0:\n",
    "            camps.append(data_split[j])\n",
    "        elif j%2==1:\n",
    "            ops.append(data_split[j])\n",
    "        else:\n",
    "            values.append(data_split[j])"
   ]
  },
  {
   "cell_type": "code",
   "execution_count": null,
   "metadata": {},
   "outputs": [],
   "source": [
    "camps"
   ]
  },
  {
   "cell_type": "code",
   "execution_count": null,
   "metadata": {},
   "outputs": [],
   "source": [
    "ops"
   ]
  },
  {
   "cell_type": "code",
   "execution_count": null,
   "metadata": {},
   "outputs": [],
   "source": [
    "values"
   ]
  }
 ],
 "metadata": {
  "kernelspec": {
   "display_name": "Python 3",
   "language": "python",
   "name": "python3"
  },
  "language_info": {
   "codemirror_mode": {
    "name": "ipython",
    "version": 3
   },
   "file_extension": ".py",
   "mimetype": "text/x-python",
   "name": "python",
   "nbconvert_exporter": "python",
   "pygments_lexer": "ipython3",
   "version": "3.6.8"
  }
 },
 "nbformat": 4,
 "nbformat_minor": 4
}
