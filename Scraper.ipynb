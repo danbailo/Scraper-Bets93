{
 "cells": [
  {
   "cell_type": "code",
   "execution_count": 1,
   "metadata": {},
   "outputs": [],
   "source": [
    "from selenium import webdriver"
   ]
  },
  {
   "cell_type": "code",
   "execution_count": 2,
   "metadata": {},
   "outputs": [],
   "source": [
    "options = webdriver.ChromeOptions()\n",
    "options.add_argument('headless')\n",
    "browser = webdriver.Chrome(options=options)"
   ]
  },
  {
   "cell_type": "code",
   "execution_count": 3,
   "metadata": {},
   "outputs": [],
   "source": [
    "browser.get(\"https://bets93.net/\")"
   ]
  },
  {
   "cell_type": "code",
   "execution_count": 4,
   "metadata": {},
   "outputs": [],
   "source": [
    "tab_jogos = browser.find_element_by_class_name(\"jogos\") #tabela onde contem todos os jogos disponiveis\n",
    "#pega div jogos, dentro dessa div ta os elementos que eu qro"
   ]
  },
  {
   "cell_type": "code",
   "execution_count": 5,
   "metadata": {},
   "outputs": [
    {
     "data": {
      "text/plain": [
       "'vjogos'"
      ]
     },
     "execution_count": 5,
     "metadata": {},
     "output_type": "execute_result"
    }
   ],
   "source": [
    "tab_jogos.get_attribute(\"id\")"
   ]
  },
  {
   "cell_type": "code",
   "execution_count": 6,
   "metadata": {},
   "outputs": [],
   "source": [
    "# pattern = re.compile(r'(j_visivel_\\d*)')"
   ]
  },
  {
   "cell_type": "code",
   "execution_count": 7,
   "metadata": {},
   "outputs": [
    {
     "name": "stdout",
     "output_type": "stream",
     "text": [
      "jogo_82938794_outros\n",
      "+206\n"
     ]
    }
   ],
   "source": [
    "jogos = tab_jogos.find_elements_by_tag_name('[id^=j_visivel_]')\n",
    "# for jogo in jogos: #ok, todos os dados da primeira tabela, agr vou testar o modal no [0]\n",
    "#     print(jogo.text)\n",
    "jogos[0].get_attribute(\"id\") #jogo_82938794_outros\n",
    "id_jogo = jogos[0].get_attribute(\"id\").split('_')[-1]\n",
    "id_botao = \"jogo_\"+id_jogo+\"_outros\"\n",
    "print(id_botao)\n",
    "print(jogos[0].find_element_by_id(id_botao).text) #quer dizer que retornou o que ta escrito no botao! working"
   ]
  },
  {
   "cell_type": "code",
   "execution_count": 8,
   "metadata": {},
   "outputs": [],
   "source": [
    "jogos[0].find_element_by_id(id_botao).click() #cliquei no botao, agr eu tenho q manipular com o browser"
   ]
  },
  {
   "cell_type": "code",
   "execution_count": 9,
   "metadata": {},
   "outputs": [],
   "source": [
    "modal = browser.find_element_by_id(\"modal\")"
   ]
  },
  {
   "cell_type": "code",
   "execution_count": 10,
   "metadata": {},
   "outputs": [],
   "source": [
    "#se a div tem align=center, é pq é o nome da partida e a data"
   ]
  },
  {
   "cell_type": "code",
   "execution_count": 17,
   "metadata": {},
   "outputs": [],
   "source": [
    "#AQUI EU OLHO PRA TODOS OS CONTAINERS DO BOTAO Q EU CLIQUEI\n",
    "divs_data = modal.find_elements_by_class_name(\"container.container-fluid\")"
   ]
  },
  {
   "cell_type": "code",
   "execution_count": 20,
   "metadata": {},
   "outputs": [
    {
     "data": {
      "text/plain": [
       "'Vencedor do encontro'"
      ]
     },
     "execution_count": 20,
     "metadata": {},
     "output_type": "execute_result"
    }
   ],
   "source": [
    "divs_data[0].find_element_by_class_name(\"camp\").text #pega o camp"
   ]
  },
  {
   "cell_type": "code",
   "execution_count": 21,
   "metadata": {},
   "outputs": [
    {
     "data": {
      "text/plain": [
       "['Vencedor do encontro', 'Casa', '1.87', 'Empate', '2.94', 'Fora', '4.65']"
      ]
     },
     "execution_count": 21,
     "metadata": {},
     "output_type": "execute_result"
    }
   ],
   "source": [
    "divs_data[0].text.split('\\n')"
   ]
  },
  {
   "cell_type": "code",
   "execution_count": 22,
   "metadata": {},
   "outputs": [
    {
     "data": {
      "text/plain": [
       "'Casa\\n1.87'"
      ]
     },
     "execution_count": 22,
     "metadata": {},
     "output_type": "execute_result"
    }
   ],
   "source": [
    "#o foda q assim teria q ficar for aninhado\n",
    "divs_data[0].find_elements_by_class_name(\"col-12.col-md-6\")[0].text #classe onde ta a opcao e valor"
   ]
  },
  {
   "cell_type": "code",
   "execution_count": 23,
   "metadata": {},
   "outputs": [],
   "source": [
    "data = {}\n",
    "for i in range(len(divs_data)):\n",
    "    data[i] = {}\n",
    "    data[i]['camp'] = ''\n",
    "    data[i]['ops'] = []\n",
    "    data[i]['values'] = []\n",
    "    data_split = divs_data[i].text.split('\\n')\n",
    "    for j in range(len(data_split)):\n",
    "        if j == 0:\n",
    "            data[i]['camp'] = data_split[j]\n",
    "        elif j%2==1:\n",
    "            data[i]['ops'].append(data_split[j])\n",
    "        else:\n",
    "            data[i]['values'].append(data_split[j])"
   ]
  },
  {
   "cell_type": "code",
   "execution_count": null,
   "metadata": {},
   "outputs": [],
   "source": [
    "print(*data.items(), sep='\\n')"
   ]
  },
  {
   "cell_type": "code",
   "execution_count": 136,
   "metadata": {},
   "outputs": [],
   "source": [
    "#PRECISO PEGAR OS DADOS DA TABELA PRINCIPAL, ESSES DADOS AI SAO DO MODAL.\n",
    "#DPS DE FAZER ISSO, VOU COLOCAR OS DADOS DA TAB PRINCIAPL NO BANCO E DPS DO MODAL\n",
    "# o banco vai ter 2 tabelas, uma com os dados principais e outra com os dados do mal referente a esse item principal"
   ]
  },
  {
   "cell_type": "code",
   "execution_count": 28,
   "metadata": {},
   "outputs": [],
   "source": [
    "fechar = browser.find_element_by_class_name(\"btn.btn-danger\")"
   ]
  },
  {
   "cell_type": "code",
   "execution_count": null,
   "metadata": {},
   "outputs": [],
   "source": [
    "fechar.click()"
   ]
  },
  {
   "cell_type": "code",
   "execution_count": null,
   "metadata": {},
   "outputs": [],
   "source": []
  }
 ],
 "metadata": {
  "kernelspec": {
   "display_name": "Python 3",
   "language": "python",
   "name": "python3"
  },
  "language_info": {
   "codemirror_mode": {
    "name": "ipython",
    "version": 3
   },
   "file_extension": ".py",
   "mimetype": "text/x-python",
   "name": "python",
   "nbconvert_exporter": "python",
   "pygments_lexer": "ipython3",
   "version": "3.6.8"
  }
 },
 "nbformat": 4,
 "nbformat_minor": 4
}
