{
 "cells": [
  {
   "cell_type": "code",
   "execution_count": 136,
   "metadata": {},
   "outputs": [],
   "source": [
    "#PRECISO PEGAR OS DADOS DA TABELA PRINCIPAL, ESSES DADOS AI SAO DO MODAL.\n",
    "#DPS DE FAZER ISSO, VOU COLOCAR OS DADOS DA TAB PRINCIAPL NO BANCO E DPS DO MODAL\n",
    "# o banco vai ter 2 tabelas, uma com os dados principais e outra com os dados do mal referente a esse item principal"
   ]
  },
  {
   "cell_type": "code",
   "execution_count": 1,
   "metadata": {},
   "outputs": [],
   "source": [
    "from selenium import webdriver"
   ]
  },
  {
   "cell_type": "code",
   "execution_count": 2,
   "metadata": {},
   "outputs": [],
   "source": [
    "options = webdriver.ChromeOptions()\n",
    "options.add_argument('headless')\n",
    "browser = webdriver.Chrome(options=options)"
   ]
  },
  {
   "cell_type": "code",
   "execution_count": 3,
   "metadata": {},
   "outputs": [],
   "source": [
    "browser.get(\"https://bets93.net/\")"
   ]
  },
  {
   "cell_type": "code",
   "execution_count": 5,
   "metadata": {},
   "outputs": [],
   "source": [
    "tab_jogos = browser.find_element_by_class_name(\"jogos\") #tabela onde contem todos os jogos disponiveis\n",
    "#pega div jogos, dentro dessa div ta os elementos que eu qro"
   ]
  },
  {
   "cell_type": "code",
   "execution_count": 6,
   "metadata": {},
   "outputs": [],
   "source": [
    "jogos = tab_jogos.find_elements_by_tag_name('[id^=j_visivel_]')"
   ]
  },
  {
   "cell_type": "code",
   "execution_count": 7,
   "metadata": {},
   "outputs": [
    {
     "name": "stdout",
     "output_type": "stream",
     "text": [
      "jogo_82938794_outros\n",
      "+206\n"
     ]
    }
   ],
   "source": [
    "# for jogo in jogos: #ok, todos os dados da primeira tabela, agr vou testar o modal no [0]\n",
    "#     print(jogo.text)\n",
    "jogos[0].get_attribute(\"id\") #jogo_82938794_outros\n",
    "id_jogo = jogos[0].get_attribute(\"id\").split('_')[-1]\n",
    "id_botao = \"jogo_\"+id_jogo+\"_outros\"\n",
    "print(id_botao)\n",
    "print(jogos[0].find_element_by_id(id_botao).text) #quer dizer que retornou o que ta escrito no botao! working"
   ]
  },
  {
   "cell_type": "code",
   "execution_count": 8,
   "metadata": {},
   "outputs": [],
   "source": [
    "jogos[0].find_element_by_id(id_botao).click() #cliquei no botao, agr eu tenho q manipular com o browser"
   ]
  },
  {
   "cell_type": "code",
   "execution_count": 9,
   "metadata": {},
   "outputs": [],
   "source": [
    "#after click\n",
    "def get_data_modal():\n",
    "    modal = browser.find_element_by_id(\"modal\")\n",
    "    divs_data = modal.find_elements_by_class_name(\"container.container-fluid\")\n",
    "    data = {}\n",
    "    for i in range(len(divs_data)):\n",
    "        data[i] = {}\n",
    "        data[i]['camp'] = ''\n",
    "        data[i]['ops'] = []\n",
    "        data[i]['values'] = []\n",
    "        data_split = divs_data[i].text.split('\\n')\n",
    "        for j in range(len(data_split)):\n",
    "            if j == 0:\n",
    "                data[i]['camp'] = data_split[j]\n",
    "            elif j%2==1:\n",
    "                data[i]['ops'].append(data_split[j])\n",
    "            else:\n",
    "                data[i]['values'].append(data_split[j])\n",
    "    return data"
   ]
  },
  {
   "cell_type": "code",
   "execution_count": 11,
   "metadata": {},
   "outputs": [
    {
     "name": "stdout",
     "output_type": "stream",
     "text": [
      "{0: {'camp': 'Vencedor do encontro', 'ops': ['Casa', 'Empate', 'Fora'], 'values': ['1.87', '2.94', '4.65']}, 1: {'camp': 'Dupla Possibilidade', 'ops': ['Casa ou Empate', 'Empate ou Fora', 'Casa ou Fora'], 'values': ['1.12', '1.73', '1.27']}, 2: {'camp': 'Ambas Equipes Marcam', 'ops': ['Ambas Marcam', 'Apenas um Marca', 'Ambos Marcam 2 Tempo:Sim', 'Ambos Marcam 2 Tempo:Não', 'Ambas marcam no 1 tempo: sim', 'Ambas marcam no 1 tempo: nao'], 'values': ['2.34', '1.38', '3.84', '1.09', '5.38', '1.04']}, 3: {'camp': 'Ambas Equipes Marcam + Resultado', 'ops': ['Ambas M e Casa Ganha', 'Ambas Nao Marcam e Casa Ganha', 'Ambas M e Fora Ganha', 'Ambas Nao Marcam e Fora Ganha', 'Ambas M e Empatam', 'Ambas Nao Marcam e Empatam'], 'values': ['5.74', '2.50', '11.86', '5.76', '5.28', '5.28']}, 4: {'camp': 'Total de Gols', 'ops': ['Jogo - Acima 2.5', 'Jogo - Abaixo 2.5', 'Jogo - Abaixo 0.5', 'Jogo - Abaixo 1.5', 'Jogo - Acima 1.5', 'Jogo - Acima 3.5'], 'values': ['2.68', '1.18', '5.28', '2.11', '1.43', '5.10']}, 5: {'camp': 'Vencedor Intervalo/Final *(consulte tipos de apostas)', 'ops': ['Casa | Casa', 'Casa | Empate', 'Casa | Fora', 'Empate | Casa', 'Empate | Empate', 'Empate | Fora', 'Fora | Casa', 'Fora | Empate', 'Fora | Fora'], 'values': ['3.07', '16.32', '18.00', '4.16', '3.60', '8.16', '18.00', '18.00', '7.68']}, 6: {'camp': 'Resultado Exato', 'ops': ['Resultado Exato (1 : 0)', 'Resultado Exato (0 : 0)', 'Resultado Exato (0 : 1)', 'Resultado Exato (2 : 0)', 'Resultado Exato (1 : 1)', 'Resultado Exato (0 : 2)', 'Resultado Exato (2 : 1)', 'Resultado Exato (2 : 2)', 'Resultado Exato (1 : 2)', 'Resultado Exato (3 : 0)', 'Resultado Exato (3 : 3)', 'Resultado Exato (0 : 3)', 'Resultado Exato (3 : 1)', 'Resultado Exato (1 : 3)', 'Resultado Exato (3 : 2)', 'Resultado Exato (2 : 3)', 'Resultado Exato (4 : 0)', 'Resultado Exato (0 : 4)', 'Resultado Exato (4 : 1)', 'Resultado Exato (1 : 4)', 'Resultado Exato (4 : 2)', 'Resultado Exato (5 : 0)', 'Resultado Exato (5 : 1)'], 'values': ['3.65', '5.28', '6.53', '5.38', '6.24', '16.13', '9.60', '18.00', '18.00', '14.40', '18.00', '18.00', '18.00', '18.00', '18.00', '18.00', '18.00', '18.00', '18.00', '18.00', '18.00', '18.00', '18.00']}, 7: {'camp': 'Vencedor no 1 Tempo', 'ops': ['1 Tempo - Casa', '1 Tempo - Empate', '1 Tempo - Fora'], 'values': ['2.38', '1.58', '4.75']}, 8: {'camp': 'Total de Gols no 1 Tempo', 'ops': ['1 Tempo - Jogo Acima 1.5', '1 Tempo - Jogo Abaixo 1.5', '1 Tempo - Jogo Acima 2.5', '1 Tempo - Jogo Abaixo 2.5'], 'values': ['3.53', '1.15', '12.24', '1.01']}, 9: {'camp': 'Resultado Exato no 1 Tempo', 'ops': ['1 Tempo - Resultado Exato (1 : 0)', '1 Tempo - Resultado Exato (0 : 0)', '1 Tempo - Resultado Exato (0 : 1)', '1 Tempo - Resultado Exato (2 : 0)', '1 Tempo - Resultado Exato (1 : 1)', '1 Tempo - Resultado Exato (0 : 2)', '1 Tempo - Resultado Exato (2 : 1)', '1 Tempo - Resultado Exato (2 : 2)', '1 Tempo - Resultado Exato (1 : 2)', '1 Tempo - Resultado Exato (3 : 0)', '1 Tempo - Resultado Exato (0 : 3)', '1 Tempo - Resultado Exato (3 : 1)', '1 Tempo - Resultado Exato (4 : 0)'], 'values': ['2.76', '1.61', '4.61', '10.56', '10.56', '18.00', '18.00', '18.00', '18.00', '18.00', '18.00', '18.00', '18.00']}, 10: {'camp': 'Dupla Possibilidade no 1 tempo', 'ops': ['1tp - Casa ou Empate', '1tp - Empate ou Fora', '1tp - Casa ou Fora'], 'values': ['1.09', '1.34', '1.76']}, 11: {'camp': 'Resultado e Total de Gols', 'ops': ['Casa & acima de 2.5', 'Casa & abaixo de 2.5', 'Empate & acima de 2.5', 'Empate & abaixo de 2.5', 'Fora & acima de 2.5', 'Fora & abaixo de 2.5'], 'values': ['3.74', '2.68', '18.00', '2.81', '9.50', '5.62']}, 12: {'camp': 'Total Gols Pares ou Impares', 'ops': ['Total Gols Pares', 'Total Gols Impares'], 'values': ['1.82', '1.87']}, 13: {'camp': 'Casa Total Gols Pares ou Impares', 'ops': ['Casa Total Gols Pares', 'Casa Total Gols Impares'], 'values': ['1.66', '1.92']}, 14: {'camp': 'Fora Total Gols Pares ou Impares', 'ops': ['Fora Total Gols Pares', 'Fora Total Gols Impares'], 'values': ['1.44', '2.40']}, 15: {'camp': 'Ambos marcam 1tp/2tp', 'ops': ['Sim/Sim', 'Sim/Nao', 'Nao/Sim', 'Nao/Nao'], 'values': ['18.00', '8.16', '5.28', '1.20']}, 16: {'camp': 'Total de Gols no 2 Tempo', 'ops': ['2 Tempo - Jogo Abaixo 0.5', '2 Tempo - Jogo Acima 1.5', '2 Tempo - Jogo Abaixo 1.5', '2 Tempo - Jogo Acima 2.5', '2 Tempo - Jogo Abaixo 2.5', '2 Tempo - Jogo Acima 3.5'], 'values': ['2.52', '2.45', '1.31', '2.00', '1.04', '18.00']}, 17: {'camp': 'Total Escanteios', 'ops': ['Cantos - Abaixo de 6', 'Cantos - Entre 6 - 8', 'Cantos - Entre 9 - 11', 'Cantos - Entre 12 - 14', 'Cantos - Acima de 14'], 'values': ['7.00', '3.33', '2.01', '2.50', '4.61']}, 18: {'camp': 'Empate nao tem aposta', 'ops': ['Casa - Sem empate', 'Fora - Sem empate'], 'values': ['1.28', '3.12']}, 19: {'camp': 'Vencedor 2TP', 'ops': ['2TP - Casa', '2TP - Empate', '2TP - Fora'], 'values': ['2.28', '2.02', '4.56']}}\n"
     ]
    }
   ],
   "source": [
    "print(get_data_modal())"
   ]
  },
  {
   "cell_type": "code",
   "execution_count": 12,
   "metadata": {},
   "outputs": [],
   "source": [
    "#FECHA A JANELA ABERTA E ASSIM EU POSSO ABRIR OUTRA\n",
    "browser.find_element_by_class_name(\"btn.btn-danger\").click()"
   ]
  },
  {
   "cell_type": "code",
   "execution_count": 13,
   "metadata": {},
   "outputs": [],
   "source": [
    "id_jogo = jogos[1].get_attribute(\"id\").split('_')[-1]\n",
    "id_botao = \"jogo_\"+id_jogo+\"_outros\"\n",
    "jogos[1].find_element_by_id(id_botao).click()"
   ]
  },
  {
   "cell_type": "code",
   "execution_count": 14,
   "metadata": {},
   "outputs": [
    {
     "name": "stdout",
     "output_type": "stream",
     "text": [
      "{0: {'camp': 'Vencedor do encontro', 'ops': ['Casa', 'Empate', 'Fora'], 'values': ['5.39', '3.72', '1.50']}, 1: {'camp': 'Dupla Possibilidade', 'ops': ['Casa ou Empate', 'Empate ou Fora', 'Casa ou Fora'], 'values': ['2.16', '1.07', '1.14']}, 2: {'camp': 'Ambas Equipes Marcam', 'ops': ['Apenas um Marca', 'Ambas Marcam'], 'values': ['1.44', '1.43']}, 3: {'camp': 'Ambas Equipes Marcam + Resultado', 'ops': ['Ambas M e Casa Ganha', 'Ambas M e Fora Ganha', 'Ambas M e Empatam'], 'values': ['5.92', '2.49', '4.80']}, 4: {'camp': 'Total de Gols', 'ops': ['Jogo - Acima 2.5', 'Jogo - Abaixo 2.5', 'Jogo - Acima 1.5', 'Jogo - Abaixo 1.5'], 'values': ['1.49', '1.80', '1.01', '1.01']}, 5: {'camp': 'Vencedor Intervalo/Final *(consulte tipos de apostas)', 'ops': ['Casa | Casa', 'Casa | Empate', 'Casa | Fora', 'Empate | Casa', 'Empate | Empate', 'Empate | Fora', 'Fora | Casa', 'Fora | Empate', 'Fora | Fora'], 'values': ['8.16', '16.32', '18.00', '10.56', '6.24', '4.16', '18.00', '14.40', '2.30']}, 6: {'camp': 'Resultado Exato', 'ops': ['Resultado Exato (1 : 0)', 'Resultado Exato (0 : 0)', 'Resultado Exato (0 : 1)', 'Resultado Exato (2 : 0)', 'Resultado Exato (1 : 1)', 'Resultado Exato (0 : 2)', 'Resultado Exato (2 : 1)', 'Resultado Exato (2 : 2)', 'Resultado Exato (1 : 2)', 'Resultado Exato (3 : 0)', 'Resultado Exato (3 : 3)', 'Resultado Exato (0 : 3)', 'Resultado Exato (3 : 1)', 'Resultado Exato (1 : 3)', 'Resultado Exato (3 : 2)', 'Resultado Exato (2 : 3)', 'Resultado Exato (4 : 1)', 'Resultado Exato (0 : 4)', 'Resultado Exato (1 : 4)', 'Resultado Exato (2 : 4)', 'Resultado Exato (3 : 4)', 'Resultado Exato (0 : 5)', 'Resultado Exato (1 : 5)', 'Resultado Exato (2 : 5)', 'Resultado Exato (0 : 6)', 'Resultado Exato (1 : 6)'], 'values': ['13.06', '10.56', '5.76', '18.00', '7.68', '6.14', '18.00', '16.32', '8.64', '18.00', '18.00', '10.56', '18.00', '12.48', '18.00', '18.00', '18.00', '18.00', '18.00', '18.00', '18.00', '18.00', '18.00', '18.00', '18.00', '18.00']}, 7: {'camp': 'Vencedor no 1 Tempo', 'ops': ['1 Tempo - Casa', '1 Tempo - Empate', '1 Tempo - Fora'], 'values': ['4.32', '2.06', '1.81']}, 8: {'camp': 'Total de Gols no 1 Tempo', 'ops': ['1 Tempo - Jogo Acima 1.5', '1 Tempo - Jogo Abaixo 1.5'], 'values': ['1.41', '2.00']}, 9: {'camp': 'Resultado Exato no 1 Tempo', 'ops': ['1 Tempo - Resultado Exato (1 : 0)', '1 Tempo - Resultado Exato (0 : 0)', '1 Tempo - Resultado Exato (0 : 1)', '1 Tempo - Resultado Exato (2 : 0)', '1 Tempo - Resultado Exato (1 : 1)', '1 Tempo - Resultado Exato (0 : 2)', '1 Tempo - Resultado Exato (2 : 1)', '1 Tempo - Resultado Exato (2 : 2)', '1 Tempo - Resultado Exato (1 : 2)', '1 Tempo - Resultado Exato (3 : 0)', '1 Tempo - Resultado Exato (0 : 3)', '1 Tempo - Resultado Exato (1 : 3)', '1 Tempo - Resultado Exato (0 : 4)'], 'values': ['5.38', '2.30', '2.88', '18.00', '9.12', '7.20', '18.00', '18.00', '18.00', '18.00', '18.00', '18.00', '18.00']}, 10: {'camp': 'Dupla Possibilidade no 1 tempo', 'ops': ['1tp - Casa ou Empate', '1tp - Empate ou Fora', '1tp - Casa ou Fora'], 'values': ['1.60', '1.12', '1.47']}, 11: {'camp': 'Total Gols Pares ou Impares', 'ops': ['Total Gols Pares', 'Total Gols Impares'], 'values': ['1.82', '1.87']}, 12: {'camp': 'Casa Total Gols Pares ou Impares', 'ops': ['Casa Total Gols Pares', 'Casa Total Gols Impares'], 'values': ['1.51', '2.16']}, 13: {'camp': 'Fora Total Gols Pares ou Impares', 'ops': ['Fora Total Gols Pares', 'Fora Total Gols Impares'], 'values': ['1.76', '1.76']}, 14: {'camp': 'Total Escanteios', 'ops': ['Cantos - Abaixo de 6', 'Cantos - Entre 6 - 8', 'Cantos - Entre 9 - 11', 'Cantos - Entre 12 - 14', 'Cantos - Acima de 14'], 'values': ['6.91', '2.30', '2.00', '3.46', '7.00']}, 15: {'camp': 'Empate nao tem aposta', 'ops': ['Casa - Sem empate', 'Fora - Sem empate'], 'values': ['3.84', '1.17']}}\n"
     ]
    }
   ],
   "source": [
    "print(get_data_modal())"
   ]
  },
  {
   "cell_type": "code",
   "execution_count": null,
   "metadata": {},
   "outputs": [],
   "source": []
  }
 ],
 "metadata": {
  "kernelspec": {
   "display_name": "Python 3",
   "language": "python",
   "name": "python3"
  },
  "language_info": {
   "codemirror_mode": {
    "name": "ipython",
    "version": 3
   },
   "file_extension": ".py",
   "mimetype": "text/x-python",
   "name": "python",
   "nbconvert_exporter": "python",
   "pygments_lexer": "ipython3",
   "version": "3.6.8"
  }
 },
 "nbformat": 4,
 "nbformat_minor": 4
}
