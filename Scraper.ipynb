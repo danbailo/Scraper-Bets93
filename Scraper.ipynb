{
 "cells": [
  {
   "cell_type": "code",
   "execution_count": 1,
   "metadata": {},
   "outputs": [],
   "source": [
    "from selenium import webdriver\n",
    "import re"
   ]
  },
  {
   "cell_type": "code",
   "execution_count": 2,
   "metadata": {},
   "outputs": [],
   "source": [
    "options = webdriver.ChromeOptions()\n",
    "options.add_argument('headless')\n",
    "browser = webdriver.Chrome(options=options)"
   ]
  },
  {
   "cell_type": "code",
   "execution_count": 3,
   "metadata": {},
   "outputs": [],
   "source": [
    "browser.get(\"https://bets93.net/\")"
   ]
  },
  {
   "cell_type": "code",
   "execution_count": 20,
   "metadata": {},
   "outputs": [],
   "source": [
    "tab_jogos = browser.find_element_by_class_name(\"jogos\") #tabela onde contem todos os jogos disponiveis\n",
    "#pega div jogos, dentro dessa div ta os elementos que eu qro"
   ]
  },
  {
   "cell_type": "code",
   "execution_count": 21,
   "metadata": {},
   "outputs": [
    {
     "data": {
      "text/plain": [
       "'vjogos'"
      ]
     },
     "execution_count": 21,
     "metadata": {},
     "output_type": "execute_result"
    }
   ],
   "source": [
    "tab_jogos.get_attribute(\"id\")"
   ]
  },
  {
   "cell_type": "code",
   "execution_count": 6,
   "metadata": {},
   "outputs": [],
   "source": [
    "# pattern = re.compile(r'(j_visivel_\\d*)')"
   ]
  },
  {
   "cell_type": "code",
   "execution_count": 22,
   "metadata": {},
   "outputs": [],
   "source": [
    "jogos = tab_jogos.find_elements_by_tag_name('[id^=j]')"
   ]
  },
  {
   "cell_type": "code",
   "execution_count": 25,
   "metadata": {},
   "outputs": [],
   "source": [
    "# for jogo in jogos: #ok, todos os dados da primeira tabela, agr vou testar o modal no [0]\n",
    "#     print(jogo.text)"
   ]
  },
  {
   "cell_type": "code",
   "execution_count": 27,
   "metadata": {},
   "outputs": [
    {
     "data": {
      "text/plain": [
       "'j_visivel_82938794'"
      ]
     },
     "execution_count": 27,
     "metadata": {},
     "output_type": "execute_result"
    }
   ],
   "source": [
    "jogos[0].get_attribute(\"id\") #jogo_82938794_outros"
   ]
  },
  {
   "cell_type": "code",
   "execution_count": 30,
   "metadata": {},
   "outputs": [],
   "source": [
    "id_jogo = jogos[0].get_attribute(\"id\").split('_')[-1]"
   ]
  },
  {
   "cell_type": "code",
   "execution_count": 31,
   "metadata": {},
   "outputs": [],
   "source": [
    "id_botao = \"jogo_\"+id_jogo+\"_outros\""
   ]
  },
  {
   "cell_type": "code",
   "execution_count": 32,
   "metadata": {},
   "outputs": [
    {
     "data": {
      "text/plain": [
       "'jogo_82938794_outros'"
      ]
     },
     "execution_count": 32,
     "metadata": {},
     "output_type": "execute_result"
    }
   ],
   "source": [
    "id_botao"
   ]
  },
  {
   "cell_type": "code",
   "execution_count": 35,
   "metadata": {},
   "outputs": [
    {
     "data": {
      "text/plain": [
       "'+206'"
      ]
     },
     "execution_count": 35,
     "metadata": {},
     "output_type": "execute_result"
    }
   ],
   "source": [
    "jogos[0].find_element_by_id(id_botao).text #quer dizer que retornou o que ta escrito no botao! working"
   ]
  },
  {
   "cell_type": "code",
   "execution_count": null,
   "metadata": {},
   "outputs": [],
   "source": [
    "jogos[0].find_element_by_id(id_botao).click() #cliquei no botao, agr eu tenho q manipular com o browser"
   ]
  },
  {
   "cell_type": "code",
   "execution_count": 38,
   "metadata": {},
   "outputs": [],
   "source": [
    "modal = browser.find_element_by_id(\"modal\")"
   ]
  },
  {
   "cell_type": "code",
   "execution_count": 39,
   "metadata": {},
   "outputs": [],
   "source": [
    "camps = modal.find_elements_by_class_name(\"camp\")"
   ]
  },
  {
   "cell_type": "code",
   "execution_count": 40,
   "metadata": {},
   "outputs": [
    {
     "name": "stdout",
     "output_type": "stream",
     "text": [
      "Vencedor do encontro\n",
      "Dupla Possibilidade\n",
      "Ambas Equipes Marcam\n",
      "Ambas Equipes Marcam + Resultado\n",
      "Total de Gols\n",
      "Vencedor Intervalo/Final *(consulte tipos de apostas)\n",
      "Resultado Exato\n",
      "Vencedor no 1 Tempo\n",
      "Total de Gols no 1 Tempo\n",
      "Resultado Exato no 1 Tempo\n",
      "Dupla Possibilidade no 1 tempo\n",
      "Resultado e Total de Gols\n",
      "Total Gols Pares ou Impares\n",
      "Casa Total Gols Pares ou Impares\n",
      "Fora Total Gols Pares ou Impares\n",
      "Ambos marcam 1tp/2tp\n",
      "Total de Gols no 2 Tempo\n",
      "Total Escanteios\n",
      "Empate nao tem aposta\n",
      "Vencedor 2TP\n"
     ]
    }
   ],
   "source": [
    "for camp in camps:\n",
    "    print(camp.text)"
   ]
  },
  {
   "cell_type": "code",
   "execution_count": 41,
   "metadata": {},
   "outputs": [],
   "source": [
    "#se a div tem align=center, é pq é o nome da partida e a data"
   ]
  },
  {
   "cell_type": "code",
   "execution_count": 105,
   "metadata": {},
   "outputs": [],
   "source": [
    "#AQUI EU OLHO PRA TODOS OS CONTAINERS DO BOTAO Q EU CLIQUEI\n",
    "divs_data = modal.find_elements_by_class_name(\"container.container-fluid\")"
   ]
  },
  {
   "cell_type": "code",
   "execution_count": 106,
   "metadata": {},
   "outputs": [
    {
     "data": {
      "text/plain": [
       "'Vencedor do encontro\\nCasa\\n1.87\\nEmpate\\n2.94\\nFora\\n4.65'"
      ]
     },
     "execution_count": 106,
     "metadata": {},
     "output_type": "execute_result"
    }
   ],
   "source": [
    "divs_data[0].text"
   ]
  },
  {
   "cell_type": "code",
   "execution_count": 69,
   "metadata": {},
   "outputs": [
    {
     "data": {
      "text/plain": [
       "'Vencedor do encontro'"
      ]
     },
     "execution_count": 69,
     "metadata": {},
     "output_type": "execute_result"
    }
   ],
   "source": [
    "divs_data[0].find_element_by_class_name(\"camp\").text #pega o camp"
   ]
  },
  {
   "cell_type": "code",
   "execution_count": 79,
   "metadata": {},
   "outputs": [
    {
     "data": {
      "text/plain": [
       "['Vencedor do encontro', 'Casa', '1.87', 'Empate', '2.94', 'Fora', '4.65']"
      ]
     },
     "execution_count": 79,
     "metadata": {},
     "output_type": "execute_result"
    }
   ],
   "source": [
    "divs_data[0].text.split('\\n')"
   ]
  },
  {
   "cell_type": "code",
   "execution_count": 74,
   "metadata": {},
   "outputs": [
    {
     "data": {
      "text/plain": [
       "'Casa\\n1.87'"
      ]
     },
     "execution_count": 74,
     "metadata": {},
     "output_type": "execute_result"
    }
   ],
   "source": [
    "#o foda q assim teria q ficar for aninhado\n",
    "divs_data[0].find_elements_by_class_name(\"col-12.col-md-6\")[0].text #classe onde ta a opcao e valor"
   ]
  },
  {
   "cell_type": "code",
   "execution_count": 129,
   "metadata": {},
   "outputs": [],
   "source": [
    "data = {}\n",
    "for i in range(len(divs_data)):\n",
    "    data[i] = {}\n",
    "    data[i]['camp'] = ''\n",
    "    data[i]['ops'] = []\n",
    "    data[i]['values'] = []\n",
    "    data_split = divs_data[i].text.split('\\n')\n",
    "    for j in range(len(data_split)):\n",
    "        if j == 0:\n",
    "            data[i]['camp'] = data_split[j]\n",
    "        elif j%2==1:\n",
    "            data[i]['ops'].append(data_split[j])\n",
    "        else:\n",
    "            data[i]['values'].append(data_split[j])"
   ]
  },
  {
   "cell_type": "code",
   "execution_count": 134,
   "metadata": {},
   "outputs": [
    {
     "name": "stdout",
     "output_type": "stream",
     "text": [
      "(0, {'camp': 'Vencedor do encontro', 'ops': ['Casa', 'Empate', 'Fora'], 'values': ['1.87', '2.94', '4.65']})\n",
      "(1, {'camp': 'Dupla Possibilidade', 'ops': ['Casa ou Empate', 'Empate ou Fora', 'Casa ou Fora'], 'values': ['1.12', '1.73', '1.27']})\n",
      "(2, {'camp': 'Ambas Equipes Marcam', 'ops': ['Ambas Marcam', 'Apenas um Marca', 'Ambos Marcam 2 Tempo:Sim', 'Ambos Marcam 2 Tempo:Não', 'Ambas marcam no 1 tempo: sim', 'Ambas marcam no 1 tempo: nao'], 'values': ['2.34', '1.38', '3.84', '1.09', '5.38', '1.04']})\n",
      "(3, {'camp': 'Ambas Equipes Marcam + Resultado', 'ops': ['Ambas M e Casa Ganha', 'Ambas Nao Marcam e Casa Ganha', 'Ambas M e Fora Ganha', 'Ambas Nao Marcam e Fora Ganha', 'Ambas M e Empatam', 'Ambas Nao Marcam e Empatam'], 'values': ['5.74', '2.50', '11.86', '5.76', '5.28', '5.28']})\n",
      "(4, {'camp': 'Total de Gols', 'ops': ['Jogo - Acima 2.5', 'Jogo - Abaixo 2.5', 'Jogo - Abaixo 0.5', 'Jogo - Abaixo 1.5', 'Jogo - Acima 1.5', 'Jogo - Acima 3.5'], 'values': ['2.68', '1.18', '5.28', '2.11', '1.43', '5.10']})\n",
      "(5, {'camp': 'Vencedor Intervalo/Final *(consulte tipos de apostas)', 'ops': ['Casa | Casa', 'Casa | Empate', 'Casa | Fora', 'Empate | Casa', 'Empate | Empate', 'Empate | Fora', 'Fora | Casa', 'Fora | Empate', 'Fora | Fora'], 'values': ['3.07', '16.32', '18.00', '4.16', '3.60', '8.16', '18.00', '18.00', '7.68']})\n",
      "(6, {'camp': 'Resultado Exato', 'ops': ['Resultado Exato (1 : 0)', 'Resultado Exato (0 : 0)', 'Resultado Exato (0 : 1)', 'Resultado Exato (2 : 0)', 'Resultado Exato (1 : 1)', 'Resultado Exato (0 : 2)', 'Resultado Exato (2 : 1)', 'Resultado Exato (2 : 2)', 'Resultado Exato (1 : 2)', 'Resultado Exato (3 : 0)', 'Resultado Exato (3 : 3)', 'Resultado Exato (0 : 3)', 'Resultado Exato (3 : 1)', 'Resultado Exato (1 : 3)', 'Resultado Exato (3 : 2)', 'Resultado Exato (2 : 3)', 'Resultado Exato (4 : 0)', 'Resultado Exato (0 : 4)', 'Resultado Exato (4 : 1)', 'Resultado Exato (1 : 4)', 'Resultado Exato (4 : 2)', 'Resultado Exato (5 : 0)', 'Resultado Exato (5 : 1)'], 'values': ['3.65', '5.28', '6.53', '5.38', '6.24', '16.13', '9.60', '18.00', '18.00', '14.40', '18.00', '18.00', '18.00', '18.00', '18.00', '18.00', '18.00', '18.00', '18.00', '18.00', '18.00', '18.00', '18.00']})\n",
      "(7, {'camp': 'Vencedor no 1 Tempo', 'ops': ['1 Tempo - Casa', '1 Tempo - Empate', '1 Tempo - Fora'], 'values': ['2.38', '1.58', '4.75']})\n",
      "(8, {'camp': 'Total de Gols no 1 Tempo', 'ops': ['1 Tempo - Jogo Acima 1.5', '1 Tempo - Jogo Abaixo 1.5', '1 Tempo - Jogo Acima 2.5', '1 Tempo - Jogo Abaixo 2.5'], 'values': ['3.53', '1.15', '12.24', '1.01']})\n",
      "(9, {'camp': 'Resultado Exato no 1 Tempo', 'ops': ['1 Tempo - Resultado Exato (1 : 0)', '1 Tempo - Resultado Exato (0 : 0)', '1 Tempo - Resultado Exato (0 : 1)', '1 Tempo - Resultado Exato (2 : 0)', '1 Tempo - Resultado Exato (1 : 1)', '1 Tempo - Resultado Exato (0 : 2)', '1 Tempo - Resultado Exato (2 : 1)', '1 Tempo - Resultado Exato (2 : 2)', '1 Tempo - Resultado Exato (1 : 2)', '1 Tempo - Resultado Exato (3 : 0)', '1 Tempo - Resultado Exato (0 : 3)', '1 Tempo - Resultado Exato (3 : 1)', '1 Tempo - Resultado Exato (4 : 0)'], 'values': ['2.76', '1.61', '4.61', '10.56', '10.56', '18.00', '18.00', '18.00', '18.00', '18.00', '18.00', '18.00', '18.00']})\n",
      "(10, {'camp': 'Dupla Possibilidade no 1 tempo', 'ops': ['1tp - Casa ou Empate', '1tp - Empate ou Fora', '1tp - Casa ou Fora'], 'values': ['1.09', '1.34', '1.76']})\n",
      "(11, {'camp': 'Resultado e Total de Gols', 'ops': ['Casa & acima de 2.5', 'Casa & abaixo de 2.5', 'Empate & acima de 2.5', 'Empate & abaixo de 2.5', 'Fora & acima de 2.5', 'Fora & abaixo de 2.5'], 'values': ['3.74', '2.68', '18.00', '2.81', '9.50', '5.62']})\n",
      "(12, {'camp': 'Total Gols Pares ou Impares', 'ops': ['Total Gols Pares', 'Total Gols Impares'], 'values': ['1.82', '1.87']})\n",
      "(13, {'camp': 'Casa Total Gols Pares ou Impares', 'ops': ['Casa Total Gols Pares', 'Casa Total Gols Impares'], 'values': ['1.66', '1.92']})\n",
      "(14, {'camp': 'Fora Total Gols Pares ou Impares', 'ops': ['Fora Total Gols Pares', 'Fora Total Gols Impares'], 'values': ['1.44', '2.40']})\n",
      "(15, {'camp': 'Ambos marcam 1tp/2tp', 'ops': ['Sim/Sim', 'Sim/Nao', 'Nao/Sim', 'Nao/Nao'], 'values': ['18.00', '8.16', '5.28', '1.20']})\n",
      "(16, {'camp': 'Total de Gols no 2 Tempo', 'ops': ['2 Tempo - Jogo Abaixo 0.5', '2 Tempo - Jogo Acima 1.5', '2 Tempo - Jogo Abaixo 1.5', '2 Tempo - Jogo Acima 2.5', '2 Tempo - Jogo Abaixo 2.5', '2 Tempo - Jogo Acima 3.5'], 'values': ['2.52', '2.45', '1.31', '2.00', '1.04', '18.00']})\n",
      "(17, {'camp': 'Total Escanteios', 'ops': ['Cantos - Abaixo de 6', 'Cantos - Entre 6 - 8', 'Cantos - Entre 9 - 11', 'Cantos - Entre 12 - 14', 'Cantos - Acima de 14'], 'values': ['7.00', '3.33', '2.01', '2.50', '4.61']})\n",
      "(18, {'camp': 'Empate nao tem aposta', 'ops': ['Casa - Sem empate', 'Fora - Sem empate'], 'values': ['1.28', '3.12']})\n",
      "(19, {'camp': 'Vencedor 2TP', 'ops': ['2TP - Casa', '2TP - Empate', '2TP - Fora'], 'values': ['2.28', '2.02', '4.56']})\n"
     ]
    }
   ],
   "source": [
    "print(*data.items(), sep='\\n')"
   ]
  }
 ],
 "metadata": {
  "kernelspec": {
   "display_name": "Python 3",
   "language": "python",
   "name": "python3"
  },
  "language_info": {
   "codemirror_mode": {
    "name": "ipython",
    "version": 3
   },
   "file_extension": ".py",
   "mimetype": "text/x-python",
   "name": "python",
   "nbconvert_exporter": "python",
   "pygments_lexer": "ipython3",
   "version": "3.6.8"
  }
 },
 "nbformat": 4,
 "nbformat_minor": 4
}
