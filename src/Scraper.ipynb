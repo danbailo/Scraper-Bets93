{
 "cells": [
  {
   "cell_type": "code",
   "execution_count": 1,
   "metadata": {},
   "outputs": [],
   "source": [
    "#PRECISO PEGAR OS DADOS DA TABELA PRINCIPAL, ESSES DADOS AI SAO DO MODAL.\n",
    "#DPS DE FAZER ISSO, VOU COLOCAR OS DADOS DA TAB PRINCIAPL NO BANCO E DPS DO MODAL\n",
    "# o banco vai ter 2 tabelas, uma com os dados principais e outra com os dados do mal referente a esse item principal"
   ]
  },
  {
   "cell_type": "code",
   "execution_count": 1,
   "metadata": {},
   "outputs": [],
   "source": [
    "from selenium import webdriver\n",
    "from core import MySQLcompatible\n",
    "import re\n",
    "import utils\n",
    "import json\n",
    "import time"
   ]
  },
  {
   "cell_type": "code",
   "execution_count": 2,
   "metadata": {},
   "outputs": [],
   "source": [
    "tabelas = {}\n",
    "\n",
    "tabelas['campeonato'] = (\n",
    "\"CREATE TABLE IF NOT EXISTS `campeonato` (\"\n",
    "\" `idjogo` INT NOT NULL,\"\n",
    "\" `nome_campeonato` varchar(100) NOT NULL,\"\n",
    "\" `partida` varchar(150) NOT NULL,\"\n",
    "\" `data_hora` varchar(100) NOT NULL,\"    \n",
    "\" PRIMARY KEY (`idjogo`)\"\n",
    "\") ENGINE=MyISAM\")\n",
    "\n",
    "tabelas['jogos'] = (\n",
    "\"CREATE TABLE IF NOT EXISTS `jogos` (\"\n",
    "\" `id_jogo` INT NOT NULL,\"\n",
    "\" `dados` VARCHAR(255) NOT NULL,\"\n",
    "\" `valor` FLOAT(4,2),\"\n",
    "\" FOREIGN KEY (`id_jogo`)\"\n",
    "\" REFERENCES campeonato(`idjogo`),\"\n",
    "\" PRIMARY KEY (id_jogo,dados)\"\n",
    "\") ENGINE=MyISAM\")"
   ]
  },
  {
   "cell_type": "code",
   "execution_count": 3,
   "metadata": {},
   "outputs": [],
   "source": [
    "options = webdriver.ChromeOptions()\n",
    "options.add_argument('headless')\n",
    "browser = webdriver.Chrome(options=options)\n",
    "browser.get(\"https://bets93.net/\")\n",
    "browser.find_element_by_xpath(\"//div[@class='lateral']/div/ul\").click() #clica no botao \"todos\""
   ]
  },
  {
   "cell_type": "code",
   "execution_count": 4,
   "metadata": {},
   "outputs": [],
   "source": [
    "pattern_campeonato = re.compile(r\"c_visivel\")\n",
    "pattern_jogo = re.compile(r\"j_visivel_\")"
   ]
  },
  {
   "cell_type": "code",
   "execution_count": 5,
   "metadata": {},
   "outputs": [
    {
     "name": "stdout",
     "output_type": "stream",
     "text": [
      "\n",
      "Successfully Connected with bets93!\n",
      "\n",
      "Creating table campeonato \n",
      "Creating table jogos \n"
     ]
    }
   ],
   "source": [
    "tabela_jogos = browser.find_element_by_class_name(\"jogos\")\n",
    "jogos = tabela_jogos.find_elements_by_tag_name(\"div\")\n",
    "\n",
    "with MySQLcompatible('daniel','123456789',) as database:\n",
    "    db = database[0]\n",
    "    cursor = database[1]\n",
    "    utils.create_database(cursor, \"bets93\")\n",
    "    utils.connect_database(cursor, \"bets93\")\n",
    "    utils.create_table(db, cursor, tabelas)\n",
    "\n",
    "    for jogo in jogos:\n",
    "        is_camp = pattern_campeonato.match(jogo.get_attribute(\"id\"))\n",
    "        is_jogo = pattern_jogo.match(jogo.get_attribute(\"id\"))\n",
    "        if is_camp:\n",
    "            campeonato = jogo.find_element_by_class_name(\"camp\").text\n",
    "        elif is_jogo:\n",
    "            id_jogo = jogo.get_attribute(\"id\").split('_')[-1]\n",
    "            id_botao = \"jogo_\"+id_jogo+\"_outros\"\n",
    "\n",
    "            while True:\n",
    "                try:\n",
    "                    jogo.find_element_by_id(id_botao).click()\n",
    "                    break\n",
    "                except Exception as err:                \n",
    "                    browser.find_element_by_class_name(\"btn.btn-danger\").click()\n",
    "            time.sleep(2)                \n",
    "            nome_jogo, data_hora = browser.find_element_by_xpath(\"//div[span/@class='style3']\").text.split('\\n') \n",
    "\n",
    "            dados_campeonato = {\n",
    "            'idjogo': int(id_jogo),\n",
    "            'nome_campeonato': campeonato,\n",
    "            'partida': nome_jogo,\n",
    "            'data_hora': data_hora,\n",
    "            }\n",
    "            utils.insert_into_campeonato(db, cursor, dados_campeonato)\n",
    "            modal = browser.find_element_by_id(\"modal\")\n",
    "            divs_data = modal.find_elements_by_class_name(\"container.container-fluid\")\n",
    "\n",
    "            data = {}\n",
    "            for i in range(len(divs_data)):\n",
    "                data[i] = {}\n",
    "                data[i]['ops'] = []\n",
    "                data[i]['values'] = []\n",
    "                data_split = divs_data[i].text.split('\\n')\n",
    "\n",
    "                for j in range(len(data_split)):\n",
    "                    if j == 0:\n",
    "                        camp_title = data_split[j]\n",
    "                    elif j%2==1:\n",
    "                        data[i]['ops'].append(camp_title + \" \" +data_split[j])\n",
    "                    else:\n",
    "                        data[i]['values'].append(float(data_split[j]))\n",
    "\n",
    "\n",
    "            browser.find_element_by_class_name(\"btn.btn-danger\").click()\n",
    "            for key in data.values():\n",
    "                for ii in range(len(key['ops'])):\n",
    "                    utils.insert_into_jogos(db, cursor,{\n",
    "                        'idjogo': int(id_jogo),\n",
    "                        'dados': key['ops'][ii],\n",
    "                        'valor': key['values'][ii],\n",
    "                    })"
   ]
  },
  {
   "cell_type": "code",
   "execution_count": null,
   "metadata": {},
   "outputs": [],
   "source": [
    "# tabela_jogos = browser.find_element_by_class_name(\"jogos\")\n",
    "# jogos = tabela_jogos.find_elements_by_tag_name(\"div\")\n",
    "\n",
    "# with MySQLcompatible('daniel','123456789',) as database:\n",
    "#     db = database[0]\n",
    "#     cursor = database[1]\n",
    "#     utils.create_database(cursor, \"bets93\")\n",
    "#     utils.connect_database(cursor, \"bets93\")\n",
    "#     utils.create_table(cursor, tabelas, \"campeonato\")\n",
    "    \n",
    "#     for jogo in jogos:\n",
    "#         is_camp = pattern_campeonato.match(jogo.get_attribute(\"id\"))\n",
    "#         is_jogo = pattern_jogo.match(jogo.get_attribute(\"id\"))\n",
    "#         if is_camp:\n",
    "#             campeonato = jogo.find_element_by_class_name(\"camp\").text\n",
    "#         elif is_jogo:\n",
    "\n",
    "#             id_jogo = jogo.get_attribute(\"id\").split('_')[-1]\n",
    "#             id_botao = \"jogo_\"+id_jogo+\"_outros\"\n",
    "\n",
    "#             while True:\n",
    "#                 try:\n",
    "#                     jogo.find_element_by_id(id_botao).click()\n",
    "#                     break\n",
    "#                 except Exception as err:                \n",
    "#                     browser.find_element_by_class_name(\"btn.btn-danger\").click()\n",
    "#             time.sleep(2)                \n",
    "#             nome_jogo, data_hora = browser.find_element_by_xpath(\"//div[span/@class='style3']\").text.split('\\n') \n",
    "\n",
    "#             dados_campeonato = {\n",
    "#             'idjogo': int(id_jogo),\n",
    "#             'nome_campeonato': campeonato,\n",
    "#             'partida': nome_jogo,\n",
    "#             'data_hora': data_hora,\n",
    "#             }\n",
    "#             utils.insert_into_campeonato(db,cursor,dados_campeonato)\n",
    "#         else:\n",
    "#             continue"
   ]
  },
  {
   "cell_type": "code",
   "execution_count": null,
   "metadata": {},
   "outputs": [],
   "source": []
  }
 ],
 "metadata": {
  "kernelspec": {
   "display_name": "Python 3",
   "language": "python",
   "name": "python3"
  },
  "language_info": {
   "codemirror_mode": {
    "name": "ipython",
    "version": 3
   },
   "file_extension": ".py",
   "mimetype": "text/x-python",
   "name": "python",
   "nbconvert_exporter": "python",
   "pygments_lexer": "ipython3",
   "version": "3.6.8"
  }
 },
 "nbformat": 4,
 "nbformat_minor": 4
}
