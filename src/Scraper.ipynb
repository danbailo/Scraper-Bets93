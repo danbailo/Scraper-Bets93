{
 "cells": [
  {
   "cell_type": "code",
   "execution_count": 136,
   "metadata": {},
   "outputs": [],
   "source": [
    "#PRECISO PEGAR OS DADOS DA TABELA PRINCIPAL, ESSES DADOS AI SAO DO MODAL.\n",
    "#DPS DE FAZER ISSO, VOU COLOCAR OS DADOS DA TAB PRINCIAPL NO BANCO E DPS DO MODAL\n",
    "# o banco vai ter 2 tabelas, uma com os dados principais e outra com os dados do mal referente a esse item principal"
   ]
  },
  {
   "cell_type": "code",
   "execution_count": 1,
   "metadata": {},
   "outputs": [],
   "source": [
    "from selenium import webdriver\n",
    "from core import MySQLcompatible\n",
    "import re\n",
    "import utils\n",
    "import time"
   ]
  },
  {
   "cell_type": "code",
   "execution_count": 9,
   "metadata": {},
   "outputs": [],
   "source": [
    "tabelas = {}\n",
    "\n",
    "tabelas['campeonato'] = (\n",
    "\"CREATE TABLE IF NOT EXISTS `campeonato` (\"\n",
    "\" `idjogo` INT NOT NULL,\"\n",
    "\" `nome_campeonato` varchar(100) NOT NULL,\"\n",
    "\" `data_hora` varchar(100) NOT NULL,\"    \n",
    "\" `partida` varchar(150) NOT NULL,\"\n",
    "\" PRIMARY KEY (`idjogo`)\"\n",
    "\") ENGINE=InnoDB\")"
   ]
  },
  {
   "cell_type": "code",
   "execution_count": 10,
   "metadata": {},
   "outputs": [
    {
     "name": "stdout",
     "output_type": "stream",
     "text": [
      "\n",
      "Successfully Connected with bets93!\n",
      "\n",
      "Creating table campeonato: "
     ]
    }
   ],
   "source": [
    "with MySQLcompatible('daniel','123456789',) as db:\n",
    "    utils.create_database(db, \"bets93\")\n",
    "    utils.connect_database(db, \"bets93\")\n",
    "    utils.create_table(db, tabelas, \"campeonato\")"
   ]
  },
  {
   "cell_type": "code",
   "execution_count": 2,
   "metadata": {},
   "outputs": [],
   "source": [
    "options = webdriver.ChromeOptions()\n",
    "options.add_argument('headless')\n",
    "browser = webdriver.Chrome(options=options)"
   ]
  },
  {
   "cell_type": "code",
   "execution_count": 3,
   "metadata": {},
   "outputs": [],
   "source": [
    "browser.get(\"https://bets93.net/\")"
   ]
  },
  {
   "cell_type": "code",
   "execution_count": 8,
   "metadata": {},
   "outputs": [
    {
     "name": "stdout",
     "output_type": "stream",
     "text": [
      "Vila Nova x Criciuma\n",
      "01/10/2019 - 18:15\n"
     ]
    }
   ],
   "source": [
    "tab_jogos = browser.find_element_by_class_name(\"jogos\")\n",
    "caracteristicas = tab_jogos.find_elements_by_tag_name('[id^=c_visivel]')\n",
    "jogos = tab_jogos.find_elements_by_tag_name('[id^=j_visivel_]')\n",
    "for index in range(len(jogos)):\n",
    "    \n",
    "    id_jogo = jogos[index].get_attribute(\"id\").split('_')[-1]\n",
    "    id_botao = \"jogo_\"+id_jogo+\"_outros\"\n",
    "    \n",
    "    while True:\n",
    "        try:\n",
    "            jogos[index].find_element_by_id(id_botao).click()\n",
    "            break\n",
    "        except Exception as err:\n",
    "            browser.find_element_by_class_name(\"btn.btn-danger\").click()\n",
    "    \n",
    "    time.sleep(0.8)\n",
    "    campeonato = caracteristicas[index].find_element_by_class_name(\"camp\").text\n",
    "    \n",
    "    nome_jogo, data_hora = browser.find_element_by_xpath(\"//div[span/@class='style3']\").text.split('\\n') \n",
    "    \n",
    "    modal = browser.find_element_by_id(\"modal\")\n",
    "    divs_data = modal.find_elements_by_class_name(\"container.container-fluid\")\n",
    "    data = {}\n",
    "    for i in range(len(divs_data)):\n",
    "        data[i] = {}\n",
    "        data[i]['camp'] = ''\n",
    "        data[i]['ops'] = []\n",
    "        data[i]['values'] = []\n",
    "        data_split = divs_data[i].text.split('\\n')\n",
    "        for j in range(len(data_split)):\n",
    "            if j == 0:\n",
    "                data[i]['camp'] = data_split[j]\n",
    "            elif j%2==1:\n",
    "                data[i]['ops'].append(data_split[j])\n",
    "            else:\n",
    "                data[i]['values'].append(data_split[j])\n",
    "                \n",
    "    browser.find_element_by_class_name(\"btn.btn-danger\").click()\n",
    "    if index==0:break\n",
    "print(nome_jogo)\n",
    "print(data_hora)"
   ]
  },
  {
   "cell_type": "code",
   "execution_count": null,
   "metadata": {},
   "outputs": [],
   "source": []
  }
 ],
 "metadata": {
  "kernelspec": {
   "display_name": "Python 3",
   "language": "python",
   "name": "python3"
  },
  "language_info": {
   "codemirror_mode": {
    "name": "ipython",
    "version": 3
   },
   "file_extension": ".py",
   "mimetype": "text/x-python",
   "name": "python",
   "nbconvert_exporter": "python",
   "pygments_lexer": "ipython3",
   "version": "3.6.8"
  }
 },
 "nbformat": 4,
 "nbformat_minor": 4
}
