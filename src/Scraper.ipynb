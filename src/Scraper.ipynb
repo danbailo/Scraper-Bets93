{
 "cells": [
  {
   "cell_type": "code",
   "execution_count": 1,
   "metadata": {},
   "outputs": [],
   "source": [
    "from selenium import webdriver\n",
    "from core import MySQLcompatible\n",
    "from bs4 import BeautifulSoup\n",
    "import requests\n",
    "import re\n",
    "import utils\n",
    "import json\n",
    "import datetime"
   ]
  },
  {
   "cell_type": "markdown",
   "metadata": {},
   "source": [
    "insert into ignore"
   ]
  },
  {
   "cell_type": "code",
   "execution_count": 2,
   "metadata": {},
   "outputs": [],
   "source": [
    "tabelas = {}\n",
    "\n",
    "tabelas['jogos_uni'] = (\n",
    "\"CREATE TABLE IF NOT EXISTS `jogos_uni` (\"\n",
    "\"  `id` int(11) NOT NULL,\"\n",
    "\"  `titulo` varchar(250) NOT NULL,\"\n",
    "\"  `data` datetime NOT NULL,\"\n",
    "\"  `slugLiga` varchar(120) DEFAULT NULL,\"\n",
    "\"  `pais` varchar(100) DEFAULT NULL,\"\n",
    "\"  `liga` varchar(100) DEFAULT NULL,\"\n",
    "\"  `status` int(11) NOT NULL,\"\n",
    "\"  `posicao` int(11) NOT NULL,\"\n",
    "\"   PRIMARY KEY(`id`)\"    \n",
    "\") ENGINE=MyISAM DEFAULT CHARSET=latin1;\")\n",
    "\n",
    "tabelas['modal_uni'] = (\n",
    "\"CREATE TABLE IF NOT EXISTS `modal_uni` (\"\n",
    "\"  `id` int(11) NOT NULL,\"\n",
    "\"  `jogo_id` int(11) NOT NULL,\"\n",
    "\"  `odd_id` int(11) NOT NULL,\"\n",
    "\"  `cat_id` int(11) NOT NULL,\"\n",
    "\"  `categoria` varchar(250) NOT NULL,\"\n",
    "\"  `propriedade` varchar(250) NOT NULL,\"\n",
    "\"  `valor` decimal(8,2) NOT NULL DEFAULT '0.00',\"\n",
    "\"  `status` int(11) NOT NULL\"\n",
    "\") ENGINE=MyISAM DEFAULT CHARSET=latin1;\")"
   ]
  },
  {
   "cell_type": "code",
   "execution_count": 3,
   "metadata": {},
   "outputs": [],
   "source": [
    "options = webdriver.ChromeOptions()\n",
    "options.add_argument('headless')\n",
    "browser = webdriver.Chrome(options=options)\n",
    "browser.get(\"https://bets93.net/\")\n",
    "browser.find_element_by_xpath(\"//div[@class='lateral']/div/ul\").click() #clica no botao \"todos\""
   ]
  },
  {
   "cell_type": "code",
   "execution_count": 4,
   "metadata": {},
   "outputs": [],
   "source": [
    "pattern_campeonato = re.compile(r\"c_visivel\")\n",
    "pattern_jogo = re.compile(r\"j_visivel_\")"
   ]
  },
  {
   "cell_type": "code",
   "execution_count": 5,
   "metadata": {},
   "outputs": [],
   "source": [
    "soup = BeautifulSoup(browser.page_source, \"html.parser\")\n",
    "browser.quit()"
   ]
  },
  {
   "cell_type": "code",
   "execution_count": 6,
   "metadata": {},
   "outputs": [],
   "source": [
    "tabela_jogos = soup.find(class_=\"jogos\")\n",
    "jogos = tabela_jogos.findAll(\"div\",recursive=False)"
   ]
  },
  {
   "cell_type": "code",
   "execution_count": 7,
   "metadata": {},
   "outputs": [],
   "source": [
    "headers = {\n",
    "    'sec-fetch-mode': 'cors',\n",
    "    'cookie': '__cfduid=d286a6b04f21dc52264db8885f48b8f971570143846',\n",
    "    'accept-encoding': 'gzip, deflate, br',\n",
    "    'accept-language': 'en,en-US;q=0.9,pt-BR;q=0.8,pt;q=0.7',\n",
    "    'user-agent': 'Mozilla/5.0 (X11; Linux x86_64) AppleWebKit/537.36 (KHTML, like Gecko) Chrome/77.0.3865.90 Safari/537.36',\n",
    "    'accept': 'application/json, text/javascript, */*; q=0.01',\n",
    "    'referer': 'https://bets93.net/',\n",
    "    'authority': 'bets93.net',\n",
    "    'x-requested-with': 'XMLHttpRequest',\n",
    "    'sec-fetch-site': 'same-origin',\n",
    "}"
   ]
  },
  {
   "cell_type": "code",
   "execution_count": 8,
   "metadata": {},
   "outputs": [],
   "source": [
    "id_jogos = []\n",
    "for jogo in jogos:\n",
    "    attr = jogo.get(\"id\")\n",
    "    if pattern_campeonato.match(attr):\n",
    "        NOME_CAMP = jogo.find(class_=\"camp\").text\n",
    "        slugLiga = NOME_CAMP.lower().replace(' ','-')\n",
    "        slugLiga = re.sub(pattern=r'(^-|-$)',repl='', string=slugLiga)\n",
    "        pais = NOME_CAMP.split()[0]\n",
    "        liga = NOME_CAMP.split()[1:]\n",
    "        liga = ' '.join(liga)\n",
    "        status = 1\n",
    "        posicao = 1\n",
    "    elif pattern_jogo.match(attr):\n",
    "        id_jogo = int(attr.split('_')[-1])\n",
    "        titulo = jogo.find(class_=\"times fundojogos\").text.split()[:-3]\n",
    "        titulo = ' '.join(titulo)        \n",
    "        data_hora = jogo.find(class_=\"datahora\").text\n",
    "        \n",
    "        ano = int(data_hora.split()[0].split('/')[2])\n",
    "        mes = int(data_hora.split()[0].split('/')[1])\n",
    "        dia = int(data_hora.split()[0].split('/')[0])\n",
    "        horas = int(data_hora.split()[-1].split(':')[0])\n",
    "        minutos = int(data_hora.split()[-1].split(':')[1])\n",
    "        \n",
    "        data_hora = str(datetime.datetime(ano,mes,dia,horas,minutos))\n",
    "        \n",
    "        params = (('id_jogo', id_jogo),)\n",
    "\n",
    "        response = requests.get('https://bets93.net/api.php', headers=headers, params=params)        \n",
    "        \n",
    "        tabela2 = []  \n",
    "        for dicionario in response.json():\n",
    "            tabela2.append((dicionario['id_tipo_modalidade'], dicionario['id_modalidade'], dicionario['id_odd'], dicionario['odd']))        \n",
    "        tabela2 = sorted(tabela2, key=lambda x:int(x[0])/1)\n",
    "        \n",
    "        categoria = []        \n",
    "        propriedade = []\n",
    "        odd_id = []\n",
    "        valor = []\n",
    "\n",
    "        for id_tipo_modalidade, id_modalidade, id_odd, odd in tabela2:\n",
    "            categoria.append(int(id_tipo_modalidade))\n",
    "            propriedade.append(int(id_modalidade))\n",
    "            odd_id.append(int(id_odd))\n",
    "            valor.append(float(odd))\n",
    "        \n",
    "        jogos_uni = {\n",
    "            'id_jogo':id_jogo, 'titulo': titulo, 'data_hora': data_hora, 'slugLiga': slugLiga,\n",
    "            'pais':pais, 'liga': liga, 'status': status, 'posicao': posicao\n",
    "        }\n",
    "        modal_uni = {\n",
    "            'jogo_id': id_jogo, 'odd_id':odd_id, 'cat_id':1, 'categoria':categoria,\n",
    "            'propriedade':propriedade, 'valor':valor, 'id_modal':1, 'status':1\n",
    "        }\n",
    "        break"
   ]
  },
  {
   "cell_type": "code",
   "execution_count": 9,
   "metadata": {},
   "outputs": [
    {
     "ename": "ProgrammingError",
     "evalue": "Failed processing pyformat-parameters; Python 'list' cannot be converted to a MySQL type",
     "output_type": "error",
     "traceback": [
      "\u001b[0;31m---------------------------------------------------------------------------\u001b[0m",
      "\u001b[0;31mAttributeError\u001b[0m                            Traceback (most recent call last)",
      "\u001b[0;32m~/.local/lib/python3.6/site-packages/mysql/connector/conversion.py\u001b[0m in \u001b[0;36mto_mysql\u001b[0;34m(self, value)\u001b[0m\n\u001b[1;32m    178\u001b[0m         \u001b[0;32mtry\u001b[0m\u001b[0;34m:\u001b[0m\u001b[0;34m\u001b[0m\u001b[0;34m\u001b[0m\u001b[0m\n\u001b[0;32m--> 179\u001b[0;31m             \u001b[0;32mreturn\u001b[0m \u001b[0mgetattr\u001b[0m\u001b[0;34m(\u001b[0m\u001b[0mself\u001b[0m\u001b[0;34m,\u001b[0m \u001b[0;34m\"_{0}_to_mysql\"\u001b[0m\u001b[0;34m.\u001b[0m\u001b[0mformat\u001b[0m\u001b[0;34m(\u001b[0m\u001b[0mtype_name\u001b[0m\u001b[0;34m)\u001b[0m\u001b[0;34m)\u001b[0m\u001b[0;34m(\u001b[0m\u001b[0mvalue\u001b[0m\u001b[0;34m)\u001b[0m\u001b[0;34m\u001b[0m\u001b[0;34m\u001b[0m\u001b[0m\n\u001b[0m\u001b[1;32m    180\u001b[0m         \u001b[0;32mexcept\u001b[0m \u001b[0mAttributeError\u001b[0m\u001b[0;34m:\u001b[0m\u001b[0;34m\u001b[0m\u001b[0;34m\u001b[0m\u001b[0m\n",
      "\u001b[0;31mAttributeError\u001b[0m: 'MySQLConverter' object has no attribute '_list_to_mysql'",
      "\nDuring handling of the above exception, another exception occurred:\n",
      "\u001b[0;31mTypeError\u001b[0m                                 Traceback (most recent call last)",
      "\u001b[0;32m~/.local/lib/python3.6/site-packages/mysql/connector/cursor.py\u001b[0m in \u001b[0;36m_process_params_dict\u001b[0;34m(self, params)\u001b[0m\n\u001b[1;32m    394\u001b[0m                 \u001b[0mconv\u001b[0m \u001b[0;34m=\u001b[0m \u001b[0mvalue\u001b[0m\u001b[0;34m\u001b[0m\u001b[0;34m\u001b[0m\u001b[0m\n\u001b[0;32m--> 395\u001b[0;31m                 \u001b[0mconv\u001b[0m \u001b[0;34m=\u001b[0m \u001b[0mto_mysql\u001b[0m\u001b[0;34m(\u001b[0m\u001b[0mconv\u001b[0m\u001b[0;34m)\u001b[0m\u001b[0;34m\u001b[0m\u001b[0;34m\u001b[0m\u001b[0m\n\u001b[0m\u001b[1;32m    396\u001b[0m                 \u001b[0mconv\u001b[0m \u001b[0;34m=\u001b[0m \u001b[0mescape\u001b[0m\u001b[0;34m(\u001b[0m\u001b[0mconv\u001b[0m\u001b[0;34m)\u001b[0m\u001b[0;34m\u001b[0m\u001b[0;34m\u001b[0m\u001b[0m\n",
      "\u001b[0;32m~/.local/lib/python3.6/site-packages/mysql/connector/conversion.py\u001b[0m in \u001b[0;36mto_mysql\u001b[0;34m(self, value)\u001b[0m\n\u001b[1;32m    181\u001b[0m             raise TypeError(\"Python '{0}' cannot be converted to a \"\n\u001b[0;32m--> 182\u001b[0;31m                             \"MySQL type\".format(type_name))\n\u001b[0m\u001b[1;32m    183\u001b[0m \u001b[0;34m\u001b[0m\u001b[0m\n",
      "\u001b[0;31mTypeError\u001b[0m: Python 'list' cannot be converted to a MySQL type",
      "\nDuring handling of the above exception, another exception occurred:\n",
      "\u001b[0;31mProgrammingError\u001b[0m                          Traceback (most recent call last)",
      "\u001b[0;32m<ipython-input-9-93e627853128>\u001b[0m in \u001b[0;36m<module>\u001b[0;34m\u001b[0m\n\u001b[1;32m      5\u001b[0m     \u001b[0mutils\u001b[0m\u001b[0;34m.\u001b[0m\u001b[0mcreate_table\u001b[0m\u001b[0;34m(\u001b[0m\u001b[0mdb\u001b[0m\u001b[0;34m,\u001b[0m \u001b[0mcursor\u001b[0m\u001b[0;34m,\u001b[0m \u001b[0mtabelas\u001b[0m\u001b[0;34m)\u001b[0m\u001b[0;34m\u001b[0m\u001b[0;34m\u001b[0m\u001b[0m\n\u001b[1;32m      6\u001b[0m \u001b[0;31m#     utils.insert_into_jogos_uni(db, cursor, jogos_uni)\u001b[0m\u001b[0;34m\u001b[0m\u001b[0;34m\u001b[0m\u001b[0;34m\u001b[0m\u001b[0m\n\u001b[0;32m----> 7\u001b[0;31m     \u001b[0mutils\u001b[0m\u001b[0;34m.\u001b[0m\u001b[0minsert_into_modal_uni\u001b[0m\u001b[0;34m(\u001b[0m\u001b[0mdb\u001b[0m\u001b[0;34m,\u001b[0m \u001b[0mcursor\u001b[0m\u001b[0;34m,\u001b[0m \u001b[0mmodal_uni\u001b[0m\u001b[0;34m)\u001b[0m\u001b[0;34m\u001b[0m\u001b[0;34m\u001b[0m\u001b[0m\n\u001b[0m",
      "\u001b[0;32m~/Documents/Programming/FREELA_Jailson/src/utils.py\u001b[0m in \u001b[0;36minsert_into_modal_uni\u001b[0;34m(db, cursor, modal_uni)\u001b[0m\n\u001b[1;32m     25\u001b[0m                 \u001b[0;34m\"VALUES (%(id_jogo)s, %(odd_id)s, %(1)s, %(categoria)s, %(propriedade)s, %(valor)s, %(1)s, %(1)s)\"\u001b[0m\u001b[0;34m\u001b[0m\u001b[0;34m\u001b[0m\u001b[0m\n\u001b[1;32m     26\u001b[0m \t\t)\n\u001b[0;32m---> 27\u001b[0;31m         \u001b[0mcursor\u001b[0m\u001b[0;34m.\u001b[0m\u001b[0mexecute\u001b[0m\u001b[0;34m(\u001b[0m\u001b[0madd_modal_uni\u001b[0m\u001b[0;34m,\u001b[0m \u001b[0mmodal_uni\u001b[0m\u001b[0;34m)\u001b[0m\u001b[0;34m\u001b[0m\u001b[0;34m\u001b[0m\u001b[0m\n\u001b[0m\u001b[1;32m     28\u001b[0m         \u001b[0mdb\u001b[0m\u001b[0;34m.\u001b[0m\u001b[0mcommit\u001b[0m\u001b[0;34m(\u001b[0m\u001b[0;34m)\u001b[0m\u001b[0;34m\u001b[0m\u001b[0;34m\u001b[0m\u001b[0m\n",
      "\u001b[0;32m~/.local/lib/python3.6/site-packages/mysql/connector/cursor.py\u001b[0m in \u001b[0;36mexecute\u001b[0;34m(self, operation, params, multi)\u001b[0m\n\u001b[1;32m    535\u001b[0m             \u001b[0;32mif\u001b[0m \u001b[0misinstance\u001b[0m\u001b[0;34m(\u001b[0m\u001b[0mparams\u001b[0m\u001b[0;34m,\u001b[0m \u001b[0mdict\u001b[0m\u001b[0;34m)\u001b[0m\u001b[0;34m:\u001b[0m\u001b[0;34m\u001b[0m\u001b[0;34m\u001b[0m\u001b[0m\n\u001b[1;32m    536\u001b[0m                 stmt = _bytestr_format_dict(\n\u001b[0;32m--> 537\u001b[0;31m                     stmt, self._process_params_dict(params))\n\u001b[0m\u001b[1;32m    538\u001b[0m             \u001b[0;32melif\u001b[0m \u001b[0misinstance\u001b[0m\u001b[0;34m(\u001b[0m\u001b[0mparams\u001b[0m\u001b[0;34m,\u001b[0m \u001b[0;34m(\u001b[0m\u001b[0mlist\u001b[0m\u001b[0;34m,\u001b[0m \u001b[0mtuple\u001b[0m\u001b[0;34m)\u001b[0m\u001b[0;34m)\u001b[0m\u001b[0;34m:\u001b[0m\u001b[0;34m\u001b[0m\u001b[0;34m\u001b[0m\u001b[0m\n\u001b[1;32m    539\u001b[0m                 \u001b[0mpsub\u001b[0m \u001b[0;34m=\u001b[0m \u001b[0m_ParamSubstitutor\u001b[0m\u001b[0;34m(\u001b[0m\u001b[0mself\u001b[0m\u001b[0;34m.\u001b[0m\u001b[0m_process_params\u001b[0m\u001b[0;34m(\u001b[0m\u001b[0mparams\u001b[0m\u001b[0;34m)\u001b[0m\u001b[0;34m)\u001b[0m\u001b[0;34m\u001b[0m\u001b[0;34m\u001b[0m\u001b[0m\n",
      "\u001b[0;32m~/.local/lib/python3.6/site-packages/mysql/connector/cursor.py\u001b[0m in \u001b[0;36m_process_params_dict\u001b[0;34m(self, params)\u001b[0m\n\u001b[1;32m    402\u001b[0m         \u001b[0;32mexcept\u001b[0m \u001b[0mException\u001b[0m \u001b[0;32mas\u001b[0m \u001b[0merr\u001b[0m\u001b[0;34m:\u001b[0m\u001b[0;34m\u001b[0m\u001b[0;34m\u001b[0m\u001b[0m\n\u001b[1;32m    403\u001b[0m             raise errors.ProgrammingError(\n\u001b[0;32m--> 404\u001b[0;31m                 \"Failed processing pyformat-parameters; %s\" % err)\n\u001b[0m\u001b[1;32m    405\u001b[0m         \u001b[0;32melse\u001b[0m\u001b[0;34m:\u001b[0m\u001b[0;34m\u001b[0m\u001b[0;34m\u001b[0m\u001b[0m\n\u001b[1;32m    406\u001b[0m             \u001b[0;32mreturn\u001b[0m \u001b[0mres\u001b[0m\u001b[0;34m\u001b[0m\u001b[0;34m\u001b[0m\u001b[0m\n",
      "\u001b[0;31mProgrammingError\u001b[0m: Failed processing pyformat-parameters; Python 'list' cannot be converted to a MySQL type"
     ]
    }
   ],
   "source": [
    "with MySQLcompatible(\"daniel\",\"123456789\") as database:\n",
    "    db = database[0]\n",
    "    cursor = database[1]\n",
    "    utils.create_database(cursor,\"bets93\")\n",
    "    utils.create_table(db, cursor, tabelas)\n",
    "#     utils.insert_into_jogos_uni(db, cursor, jogos_uni)\n",
    "    utils.insert_into_modal_uni(db, cursor, modal_uni)    "
   ]
  }
 ],
 "metadata": {
  "kernelspec": {
   "display_name": "Python 3",
   "language": "python",
   "name": "python3"
  },
  "language_info": {
   "codemirror_mode": {
    "name": "ipython",
    "version": 3
   },
   "file_extension": ".py",
   "mimetype": "text/x-python",
   "name": "python",
   "nbconvert_exporter": "python",
   "pygments_lexer": "ipython3",
   "version": "3.6.8"
  }
 },
 "nbformat": 4,
 "nbformat_minor": 4
}
