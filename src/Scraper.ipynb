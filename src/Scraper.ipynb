{
 "cells": [
  {
   "cell_type": "code",
   "execution_count": 1,
   "metadata": {},
   "outputs": [],
   "source": [
    "from selenium import webdriver\n",
    "from core import MySQLcompatible\n",
    "from bs4 import BeautifulSoup\n",
    "import re\n",
    "import utils\n",
    "import json\n",
    "import time"
   ]
  },
  {
   "cell_type": "markdown",
   "metadata": {},
   "source": [
    "insert into ignore"
   ]
  },
  {
   "cell_type": "code",
   "execution_count": 2,
   "metadata": {},
   "outputs": [],
   "source": [
    "tabelas = {}\n",
    "\n",
    "tabelas['jogos_uni'] = (\n",
    "\"CREATE TABLE `jogos_uni` (\"\n",
    "\"  `id` int(11) NOT NULL,\"\n",
    "\"  `titulo` varchar(250) NOT NULL,\"\n",
    "\"  `data` datetime NOT NULL,\"\n",
    "\"  `slugLiga` varchar(120) DEFAULT NULL,\"\n",
    "\"  `pais` varchar(100) DEFAULT NULL,\"\n",
    "\"  `liga` varchar(100) DEFAULT NULL,\"\n",
    "\"  `status` int(11) NOT NULL,\"\n",
    "\"  `posicao` int(11) NOT NULL\"\n",
    "\") ENGINE=MyISAM DEFAULT CHARSET=latin1;\")\n",
    "\n",
    "tabelas['modal_uni'] = (\n",
    "\"CREATE TABLE IF NOT EXISTS `modal_uni` (\"\n",
    "\"  `id` int(11) NOT NULL,\"\n",
    "\"  `jogo_id` int(11) NOT NULL,\"\n",
    "\"  `odd_id` int(11) NOT NULL,\"\n",
    "\"  `cat_id` int(11) NOT NULL,\"\n",
    "\"  `categoria` varchar(250) NOT NULL,\"\n",
    "\"  `propriedade` varchar(250) NOT NULL,\"\n",
    "\"  `valor` decimal(8,2) NOT NULL DEFAULT '0.00',\"\n",
    "\"  `status` int(11) NOT NULL\"\n",
    "\") ENGINE=MyISAM DEFAULT CHARSET=latin1;\")"
   ]
  },
  {
   "cell_type": "code",
   "execution_count": 3,
   "metadata": {},
   "outputs": [],
   "source": [
    "options = webdriver.ChromeOptions()\n",
    "options.add_argument('headless')\n",
    "browser = webdriver.Chrome(options=options)\n",
    "browser.get(\"https://bets93.net/\")\n",
    "browser.find_element_by_xpath(\"//div[@class='lateral']/div/ul\").click() #clica no botao \"todos\""
   ]
  },
  {
   "cell_type": "code",
   "execution_count": 4,
   "metadata": {},
   "outputs": [],
   "source": [
    "pattern_campeonato = re.compile(r\"c_visivel\")\n",
    "pattern_jogo = re.compile(r\"j_visivel_\")"
   ]
  },
  {
   "cell_type": "code",
   "execution_count": 5,
   "metadata": {},
   "outputs": [],
   "source": [
    "soup = BeautifulSoup(browser.page_source, \"html.parser\")"
   ]
  },
  {
   "cell_type": "code",
   "execution_count": 34,
   "metadata": {},
   "outputs": [],
   "source": [
    "tabela_jogos = soup.find(class_=\"jogos\")\n",
    "c_visivel = tabela_jogos.findAll(id=\"c_visivel\")\n",
    "j_visivel = tabela_jogos.findAll(id=pattern_jogo)\n",
    "jogos = tabela_jogos.findAll(\"div\")"
   ]
  },
  {
   "cell_type": "code",
   "execution_count": null,
   "metadata": {},
   "outputs": [],
   "source": [
    "for jogo in c_visivel:\n",
    "    print(jogo.find(class_=\"camp\").text)"
   ]
  },
  {
   "cell_type": "code",
   "execution_count": null,
   "metadata": {},
   "outputs": [],
   "source": [
    "for jogo in j_visivel:\n",
    "    print(jogo.attrs)"
   ]
  },
  {
   "cell_type": "code",
   "execution_count": null,
   "metadata": {},
   "outputs": [],
   "source": []
  }
 ],
 "metadata": {
  "kernelspec": {
   "display_name": "Python 3",
   "language": "python",
   "name": "python3"
  },
  "language_info": {
   "codemirror_mode": {
    "name": "ipython",
    "version": 3
   },
   "file_extension": ".py",
   "mimetype": "text/x-python",
   "name": "python",
   "nbconvert_exporter": "python",
   "pygments_lexer": "ipython3",
   "version": "3.6.8"
  }
 },
 "nbformat": 4,
 "nbformat_minor": 4
}
