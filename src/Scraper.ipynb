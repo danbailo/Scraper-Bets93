{
 "cells": [
  {
   "cell_type": "code",
   "execution_count": 1,
   "metadata": {},
   "outputs": [],
   "source": [
    "from selenium import webdriver\n",
    "from core import MySQLcompatible\n",
    "from bs4 import BeautifulSoup\n",
    "import requests\n",
    "import re\n",
    "import utils\n",
    "import json\n",
    "import datetime\n",
    "import time"
   ]
  },
  {
   "cell_type": "code",
   "execution_count": 2,
   "metadata": {},
   "outputs": [],
   "source": [
    "tabelas = {}\n",
    "\n",
    "tabelas['jogos_uni'] = (\n",
    "\"CREATE TABLE IF NOT EXISTS `jogos_uni` (\"\n",
    "\"  `id` int(11) NOT NULL,\"\n",
    "\"  `titulo` varchar(250) NOT NULL,\"\n",
    "\"  `data` datetime NOT NULL,\"\n",
    "\"  `slugLiga` varchar(120) DEFAULT NULL,\"\n",
    "\"  `pais` varchar(100) DEFAULT NULL,\"\n",
    "\"  `liga` varchar(100) DEFAULT NULL,\"\n",
    "\"  `status` int(11) NOT NULL,\"\n",
    "\"  `posicao` int(11) NOT NULL,\"\n",
    "\"   PRIMARY KEY(`id`)\"    \n",
    "\") ENGINE=MyISAM DEFAULT CHARSET=latin1;\")\n",
    "\n",
    "# original\n",
    "tabelas['modal_uni'] = (\n",
    "\"CREATE TABLE IF NOT EXISTS `modal_uni` (\"\n",
    "\"  `id` int(11) NOT NULL,\"\n",
    "\"  `jogo_id` int(11) NOT NULL,\"\n",
    "\"  `odd_id` int(11) NOT NULL,\"\n",
    "\"  `cat_id` int(11) NOT NULL,\"\n",
    "\"  `categoria` varchar(250) NOT NULL,\"\n",
    "\"  `propriedade` varchar(250) NOT NULL,\"\n",
    "\"  `valor` decimal(8,2) NOT NULL DEFAULT '0.00',\"\n",
    "\"  `status` int(11) NOT NULL\"\n",
    "\") ENGINE=MyISAM DEFAULT CHARSET=latin1;\")\n",
    "\n",
    "#original\n",
    "tabelas['modal_uni'] = (\n",
    "\"CREATE TABLE IF NOT EXISTS `modal_uni` (\"\n",
    "\"  `id` int(11) NOT NULL AUTO_INCREMENT,\"\n",
    "\"  `jogo_id` int(11) NOT NULL,\"\n",
    "\"  `odd_id` int(11) NOT NULL,\"\n",
    "\"  `cat_id` int(11) NOT NULL,\"\n",
    "\"  `categoria` varchar(250) NOT NULL,\"\n",
    "\"  `propriedade` varchar(250) NOT NULL,\"\n",
    "\"  `valor` decimal(8,2) NOT NULL DEFAULT '0.00',\"\n",
    "\"  `status` int(11) NOT NULL,\"\n",
    "\"   PRIMARY KEY (`id`)\"    \n",
    "\") ENGINE=MyISAM DEFAULT CHARSET=latin1;\")\n"
   ]
  },
  {
   "cell_type": "code",
   "execution_count": 3,
   "metadata": {},
   "outputs": [
    {
     "ename": "NameError",
     "evalue": "name 'browser' is not defined",
     "output_type": "error",
     "traceback": [
      "\u001b[0;31m---------------------------------------------------------------------------\u001b[0m",
      "\u001b[0;31mNameError\u001b[0m                                 Traceback (most recent call last)",
      "\u001b[0;32m<ipython-input-3-710928f8954f>\u001b[0m in \u001b[0;36m<module>\u001b[0;34m\u001b[0m\n\u001b[0;32m----> 1\u001b[0;31m \u001b[0mbrowser\u001b[0m\u001b[0;34m.\u001b[0m\u001b[0mquit\u001b[0m\u001b[0;34m(\u001b[0m\u001b[0;34m)\u001b[0m\u001b[0;34m\u001b[0m\u001b[0;34m\u001b[0m\u001b[0m\n\u001b[0m",
      "\u001b[0;31mNameError\u001b[0m: name 'browser' is not defined"
     ]
    }
   ],
   "source": [
    "browser.quit()"
   ]
  },
  {
   "cell_type": "code",
   "execution_count": 4,
   "metadata": {},
   "outputs": [],
   "source": [
    "options = webdriver.ChromeOptions()\n",
    "options.add_argument('headless')\n",
    "browser = webdriver.Chrome(options=options)\n",
    "browser.get(\"https://bets93.net/\")\n",
    "browser.find_element_by_xpath(\"//div[@class='lateral']/div/ul\").click() #clica no botao \"todos\""
   ]
  },
  {
   "cell_type": "code",
   "execution_count": 5,
   "metadata": {},
   "outputs": [],
   "source": [
    "pattern_campeonato = re.compile(r\"c_visivel\")\n",
    "pattern_jogo = re.compile(r\"j_visivel_\")"
   ]
  },
  {
   "cell_type": "code",
   "execution_count": 6,
   "metadata": {},
   "outputs": [],
   "source": [
    "soup = BeautifulSoup(browser.page_source, \"html.parser\")"
   ]
  },
  {
   "cell_type": "code",
   "execution_count": 7,
   "metadata": {},
   "outputs": [],
   "source": [
    "tabela_jogos = soup.find(class_=\"jogos\")\n",
    "jogos = tabela_jogos.findAll(\"div\",recursive=False)"
   ]
  },
  {
   "cell_type": "code",
   "execution_count": 8,
   "metadata": {},
   "outputs": [],
   "source": [
    "headers = {\n",
    "    'sec-fetch-mode': 'cors',\n",
    "    'cookie': '__cfduid=d286a6b04f21dc52264db8885f48b8f971570143846',\n",
    "    'accept-encoding': 'gzip, deflate, br',\n",
    "    'accept-language': 'en,en-US;q=0.9,pt-BR;q=0.8,pt;q=0.7',\n",
    "    'user-agent': 'Mozilla/5.0 (X11; Linux x86_64) AppleWebKit/537.36 (KHTML, like Gecko) Chrome/77.0.3865.90 Safari/537.36',\n",
    "    'accept': 'application/json, text/javascript, */*; q=0.01',\n",
    "    'referer': 'https://bets93.net/',\n",
    "    'authority': 'bets93.net',\n",
    "    'x-requested-with': 'XMLHttpRequest',\n",
    "    'sec-fetch-site': 'same-origin',\n",
    "}"
   ]
  },
  {
   "cell_type": "code",
   "execution_count": 9,
   "metadata": {},
   "outputs": [],
   "source": [
    "with MySQLcompatible(\"daniel\",\"123456789\") as database:\n",
    "    db = database[0]\n",
    "    cursor = database[1]\n",
    "    utils.create_database(cursor,\"bets93\")\n",
    "    utils.create_table(db, cursor, tabelas)\n",
    "    \n",
    "    for jogo in jogos:\n",
    "        attr = jogo.get(\"id\")\n",
    "        if pattern_campeonato.match(attr):\n",
    "            NOME_CAMP = jogo.find(class_=\"camp\").text\n",
    "            slugLiga = NOME_CAMP.lower().replace(' ','-')\n",
    "            slugLiga = re.sub(pattern=r'(^-|-$)',repl='', string=slugLiga)\n",
    "            pais = NOME_CAMP.split()[0]\n",
    "            liga = NOME_CAMP.split()[1:]\n",
    "            liga = ' '.join(liga)\n",
    "            status = 1\n",
    "            posicao = 1\n",
    "        elif pattern_jogo.match(attr):\n",
    "            id_jogo = int(attr.split('_')[-1])\n",
    "            titulo = jogo.find(class_=\"times fundojogos\").text.split()[:-3]\n",
    "            titulo = ' '.join(titulo)        \n",
    "            data_hora = jogo.find(class_=\"datahora\").text\n",
    "\n",
    "            ano = int(data_hora.split()[0].split('/')[2])\n",
    "            mes = int(data_hora.split()[0].split('/')[1])\n",
    "            dia = int(data_hora.split()[0].split('/')[0])\n",
    "            horas = int(data_hora.split()[-1].split(':')[0])\n",
    "            minutos = int(data_hora.split()[-1].split(':')[1])\n",
    "\n",
    "            data_hora = str(datetime.datetime(ano,mes,dia,horas,minutos))\n",
    "\n",
    "            params = (('id_jogo', id_jogo),)\n",
    "\n",
    "            response = requests.get('https://bets93.net/api.php', headers=headers, params=params)\n",
    "            json_response = response.json()\n",
    "            response.close()\n",
    "\n",
    "            valores = []  \n",
    "            for dicionario in json_response:\n",
    "                valores.append((dicionario['id_tipo_modalidade'], dicionario['id_modalidade'], dicionario['id_odd'], dicionario['odd']))        \n",
    "            valores = sorted(valores, key=lambda x:int(x[0])/1)\n",
    "\n",
    "            categoria = []        \n",
    "            propriedade = []\n",
    "            odd_id = []\n",
    "            valor = []\n",
    "\n",
    "            for id_tipo_modalidade, id_modalidade, id_odd, odd in valores:\n",
    "                categoria.append(int(id_tipo_modalidade))\n",
    "                propriedade.append(int(id_modalidade))\n",
    "                odd_id.append(int(id_odd))\n",
    "                valor.append(float(odd))\n",
    "\n",
    "            cat_id = 1\n",
    "            status = 1\n",
    "\n",
    "            jogos_uni = {\n",
    "                'id_jogo':id_jogo, 'titulo': titulo, 'data_hora': data_hora, 'slugLiga': slugLiga,\n",
    "                'pais':pais, 'liga': liga, 'status': status, 'posicao': posicao\n",
    "            }\n",
    "            utils.insert_into_jogos_uni(db, cursor, jogos_uni)\n",
    "\n",
    "            botao = \"jogo_\"+str(id_jogo)+\"_outros\"\n",
    "            while True:\n",
    "                try:\n",
    "                    browser.find_element_by_id(botao).click()\n",
    "                    break\n",
    "                except Exception as err: browser.find_element_by_class_name(\"btn.btn-danger\").click()\n",
    "            time.sleep(3)\n",
    "            soup = BeautifulSoup(browser.page_source, \"html.parser\")\n",
    "            modal = soup.find(id=\"modal\")\n",
    "\n",
    "            camps = modal.findAll(class_=\"camp\")\n",
    "            for i in range(len(camps)):\n",
    "                camps[i] = camps[i].text\n",
    "\n",
    "            dict_categorias = dict(zip(set(categoria),camps))\n",
    "\n",
    "            props = modal.findAll(class_=\"col-9 col-sm-9\",recursive=True)\n",
    "            for i in range(len(props)):\n",
    "                props[i] = props[i].text\n",
    "\n",
    "            dict_propriedades = dict(zip(propriedade,props))\n",
    "\n",
    "            for i in range(len(categoria)):\n",
    "                utils.insert_into_modal_uni(db, cursor, {                    \n",
    "                    'jogo_id': id_jogo, 'odd_id':odd_id[i], 'cat_id':cat_id, 'categoria':dict_categorias[categoria[i]],\n",
    "                    'propriedade':dict_propriedades[propriedade[i]], 'valor':valor[i],'status':status\n",
    "                })"
   ]
  }
 ],
 "metadata": {
  "kernelspec": {
   "display_name": "Python 3",
   "language": "python",
   "name": "python3"
  },
  "language_info": {
   "codemirror_mode": {
    "name": "ipython",
    "version": 3
   },
   "file_extension": ".py",
   "mimetype": "text/x-python",
   "name": "python",
   "nbconvert_exporter": "python",
   "pygments_lexer": "ipython3",
   "version": "3.6.8"
  }
 },
 "nbformat": 4,
 "nbformat_minor": 4
}
