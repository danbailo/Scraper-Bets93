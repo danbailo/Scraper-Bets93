{
 "cells": [
  {
   "cell_type": "code",
   "execution_count": 107,
   "metadata": {},
   "outputs": [],
   "source": [
    "from selenium import webdriver\n",
    "from core import MySQLcompatible\n",
    "from bs4 import BeautifulSoup\n",
    "import re\n",
    "import utils\n",
    "import json\n",
    "import datetime"
   ]
  },
  {
   "cell_type": "markdown",
   "metadata": {},
   "source": [
    "insert into ignore"
   ]
  },
  {
   "cell_type": "code",
   "execution_count": null,
   "metadata": {},
   "outputs": [],
   "source": [
    "tabelas = {}\n",
    "\n",
    "tabelas['jogos_uni'] = (\n",
    "\"CREATE TABLE `jogos_uni` (\"\n",
    "\"  `id` int(11) NOT NULL,\"\n",
    "\"  `titulo` varchar(250) NOT NULL,\"\n",
    "\"  `data` datetime NOT NULL,\"\n",
    "\"  `slugLiga` varchar(120) DEFAULT NULL,\"\n",
    "\"  `pais` varchar(100) DEFAULT NULL,\"\n",
    "\"  `liga` varchar(100) DEFAULT NULL,\"\n",
    "\"  `status` int(11) NOT NULL,\"\n",
    "\"  `posicao` int(11) NOT NULL\"\n",
    "\") ENGINE=MyISAM DEFAULT CHARSET=latin1;\")\n",
    "\n",
    "tabelas['modal_uni'] = (\n",
    "\"CREATE TABLE IF NOT EXISTS `modal_uni` (\"\n",
    "\"  `id` int(11) NOT NULL AUTOINCREMENT,\"\n",
    "\"  `jogo_id` int(11) NOT NULL,\"\n",
    "\"  `odd_id` int(11) NOT NULL,\"\n",
    "\"  `cat_id` int(11) NOT NULL,\"\n",
    "\"  `categoria` varchar(250) NOT NULL,\"\n",
    "\"  `propriedade` varchar(250) NOT NULL,\"\n",
    "\"  `valor` decimal(8,2) NOT NULL DEFAULT '0.00',\"\n",
    "\"  `status` int(11) NOT NULL\"\n",
    "\") ENGINE=MyISAM DEFAULT CHARSET=latin1;\")"
   ]
  },
  {
   "cell_type": "code",
   "execution_count": null,
   "metadata": {},
   "outputs": [],
   "source": [
    "options = webdriver.ChromeOptions()\n",
    "options.add_argument('headless')\n",
    "browser = webdriver.Chrome(options=options)\n",
    "browser.get(\"https://bets93.net/\")\n",
    "browser.find_element_by_xpath(\"//div[@class='lateral']/div/ul\").click() #clica no botao \"todos\""
   ]
  },
  {
   "cell_type": "code",
   "execution_count": null,
   "metadata": {},
   "outputs": [],
   "source": [
    "pattern_campeonato = re.compile(r\"c_visivel\")\n",
    "pattern_jogo = re.compile(r\"j_visivel_\")"
   ]
  },
  {
   "cell_type": "code",
   "execution_count": null,
   "metadata": {},
   "outputs": [],
   "source": [
    "soup = BeautifulSoup(browser.page_source, \"html.parser\")"
   ]
  },
  {
   "cell_type": "code",
   "execution_count": null,
   "metadata": {},
   "outputs": [],
   "source": [
    "tabela_jogos = soup.find(class_=\"jogos\")\n",
    "jogos = tabela_jogos.findAll(\"div\",recursive=False)"
   ]
  },
  {
   "cell_type": "code",
   "execution_count": null,
   "metadata": {},
   "outputs": [],
   "source": [
    "id_jogos = []\n",
    "for jogo in jogos:\n",
    "    attr = jogo.get(\"id\")\n",
    "    if pattern_campeonato.match(attr):\n",
    "        NOME_CAMP = jogo.find(class_=\"camp\").text\n",
    "        slugLiga = NOME_CAMP.lower().replace(' ','-')\n",
    "        slugLiga = re.sub(pattern=r'(^-|-$)',repl='', string=slugLiga)\n",
    "        pais = NOME_CAMP.split()[0]\n",
    "        liga = NOME_CAMP.split()[1:]\n",
    "        liga = ' '.join(liga)\n",
    "        status = 1\n",
    "        posicao = 1\n",
    "    elif pattern_jogo.match(attr):\n",
    "        id_jogo = attr.split('_')[-1]\n",
    "        id_jogos.append(id_jogo)\n",
    "        titulo = jogo.find(class_=\"times fundojogos\").text.split()[:-3]\n",
    "        titulo = ' '.join(titulo)\n",
    "        \n",
    "        data_hora = jogo.find(class_=\"datahora\").text\n",
    "        ano = int(data_hora.split()[0].split('/')[2])\n",
    "        mes = int(data_hora.split()[0].split('/')[1])\n",
    "        dia = int(data_hora.split()[0].split('/')[0])\n",
    "        horas = int(data_hora.split()[-1].split(':')[0])\n",
    "        minutos = int(data_hora.split()[-1].split(':')[1])\n",
    "        \n",
    "        \n",
    "        data_hora = str(datetime.datetime(ano,mes,dia,horas,minutos))\n",
    "        tabela1 = {\n",
    "            'id_jogo':id_jogo, 'titulo': titulo, 'data_hora': data_hora, 'slugLiga': slugLiga,\n",
    "            'pais':pais, 'liga': liga, 'status': status, 'posicao': posicao\n",
    "        }\n",
    "        tabela2 = {\n",
    "            'jogo_id': id_jogo, 'odd_id':, 'cat_id':, 'categoria':,\n",
    "            'propriedade':, 'valor':, 'id_modal':1, 'status':1\n",
    "        }\n",
    "#         print(json.dumps(tabela1, indent=4))"
   ]
  },
  {
   "cell_type": "code",
   "execution_count": 104,
   "metadata": {},
   "outputs": [
    {
     "data": {
      "text/plain": [
       "276"
      ]
     },
     "execution_count": 104,
     "metadata": {},
     "output_type": "execute_result"
    }
   ],
   "source": [
    "len(id_jogos)"
   ]
  },
  {
   "cell_type": "code",
   "execution_count": null,
   "metadata": {},
   "outputs": [],
   "source": []
  }
 ],
 "metadata": {
  "kernelspec": {
   "display_name": "Python 3",
   "language": "python",
   "name": "python3"
  },
  "language_info": {
   "codemirror_mode": {
    "name": "ipython",
    "version": 3
   },
   "file_extension": ".py",
   "mimetype": "text/x-python",
   "name": "python",
   "nbconvert_exporter": "python",
   "pygments_lexer": "ipython3",
   "version": "3.6.8"
  }
 },
 "nbformat": 4,
 "nbformat_minor": 4
}
